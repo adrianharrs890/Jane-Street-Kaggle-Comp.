{
 "cells": [
  {
   "cell_type": "markdown",
   "metadata": {},
   "source": [
    "# Jane Street Kaggle Competition\n",
    "\n",
    "Adrian & Joseph"
   ]
  },
  {
   "cell_type": "markdown",
   "metadata": {},
   "source": [
    "# Dataset \n",
    "\n",
    "This dataset contains an anonymized set of features, feature_{0...129}, representing real stock market data. Each row in the dataset represents a trading opportunity, for which you will be predicting an action value: 1 to make the trade and 0 to pass on it. Each trade has an associated weight and resp, which together represents a return on the trade. The date column is an integer which represents the day of the trade, while ts_id represents a time ordering. In addition to anonymized feature values, you are provided with metadata about the features in features.csv.\n",
    "In the training set, train.csv, you are provided a resp value, as well as several other resp_{1,2,3,4} values that represent returns over different time horizons. These variables are not included in the test set. Trades with weight = 0 were intentionally included in the dataset for completeness, although such trades will not contribute towards the scoring evaluation. We created an action column associated with the trading opportunities as you will see later in the script on a condition of when the weight variable is zero or not   \n",
    "These libraries are the libraries more or less to build and run these models.\n",
    "Since this dataset is more than 2 million rows, doing EDA and fitting a model takes a good amount of time so we reduced the number of rows by taking every tenth row during our analysis. Once we found our model, we scaled the model up to the full data set.\n",
    "\n",
    "\n"
   ]
  },
  {
   "cell_type": "code",
   "execution_count": 2,
   "metadata": {},
   "outputs": [
    {
     "name": "stderr",
     "output_type": "stream",
     "text": [
      "Using TensorFlow backend.\n"
     ]
    }
   ],
   "source": [
    "import os\n",
    "import time\n",
    "\n",
    "import seaborn as sns\n",
    "import matplotlib.pyplot as plt \n",
    "import numpy as np \n",
    "import pandas as pd\n",
    "\n",
    "import scipy.cluster.hierarchy as sch\n",
    "from scipy.cluster.hierarchy import fcluster\n",
    "from sklearn.cluster import AgglomerativeClustering\n",
    "from sklearn.cluster import KMeans\n",
    "\n",
    "\n",
    "from sklearn.preprocessing import StandardScaler\n",
    "from sklearn.decomposition import PCA\n",
    "\n",
    "from sklearn.model_selection import train_test_split\n",
    "\n",
    "\n",
    "from sklearn.linear_model import LogisticRegression\n",
    "from sklearn.metrics import accuracy_score \n",
    "from sklearn.metrics import confusion_matrix, classification_report\n",
    "\n",
    "from mlinsights.mlmodel import ClassifierAfterKMeans\n",
    "\n",
    "\n",
    "from sklearn.tree import DecisionTreeClassifier\n",
    "from sklearn.ensemble import RandomForestClassifier\n",
    "from sklearn.metrics import classification_report,confusion_matrix\n",
    "\n",
    "import math\n",
    "import keras\n",
    "from keras.models import Sequential\n",
    "from keras.layers import Dense\n",
    "from keras.layers import LSTM\n",
    "from sklearn.preprocessing import MinMaxScaler\n",
    "from sklearn.metrics import mean_squared_error\n",
    "from sklearn.preprocessing import RobustScaler \n",
    "\n",
    "from scipy import stats\n"
   ]
  },
  {
   "cell_type": "code",
   "execution_count": 3,
   "metadata": {},
   "outputs": [],
   "source": [
    "def remove_collinear_features(x, threshold):\n",
    "    '''\n",
    "    Objective:\n",
    "        Remove collinear features in a dataframe with a correlation coefficient\n",
    "        greater than the threshold. Removing collinear features can help a model \n",
    "        to generalize and improves the interpretability of the model.\n",
    "\n",
    "    Inputs: \n",
    "        x: features dataframe\n",
    "        threshold: features with correlations greater than this value are removed\n",
    "\n",
    "    Output: \n",
    "        dataframe that contains only the non-highly-collinear features\n",
    "    '''\n",
    "\n",
    "    # Calculate the correlation matrix\n",
    "    corr_matrix = x.corr()\n",
    "    iters = range(len(corr_matrix.columns) - 1)\n",
    "    drop_cols = []\n",
    "\n",
    "    # Iterate through the correlation matrix and compare correlations\n",
    "    for i in iters:\n",
    "        for j in range(i+1):\n",
    "            item = corr_matrix.iloc[j:(j+1), (i+1):(i+2)]\n",
    "            col = item.columns\n",
    "            row = item.index\n",
    "            val = abs(item.values)\n",
    "\n",
    "            # If correlation exceeds the threshold\n",
    "            if val >= threshold:\n",
    "                # Print the correlated features and the correlation value\n",
    "                #print(col.values[0], \"|\", row.values[0], \"|\", round(val[0][0], 2))\n",
    "                drop_cols.append(col.values[0])\n",
    "\n",
    "    # Drop one of each pair of correlated columns\n",
    "    drops = set(drop_cols)\n",
    "    x = x.drop(columns=drops)\n",
    "    print('Removed Columns {}'.format(drops))\n",
    "    return x\n",
    "\n",
    "#  Reducing the memory of the data for faster processing\n",
    "def reduce_memory_usage(df):   \n",
    "    start_memory = df.memory_usage().sum() / 1024**2\n",
    "    print(f\"Memory usage of dataframe is {start_memory} MB\")\n",
    "    \n",
    "    for col in df.columns:\n",
    "        col_type = df[col].dtype\n",
    "        \n",
    "        if col_type != 'object':\n",
    "            c_min = df[col].min()\n",
    "            c_max = df[col].max()\n",
    "            \n",
    "            if str(col_type)[:3] == 'int':\n",
    "                if c_min > np.iinfo(np.int8).min and c_max < np.iinfo(np.int8).max:\n",
    "                    df[col] = df[col].astype(np.int8)\n",
    "                elif c_min > np.iinfo(np.int16).min and c_max < np.iinfo(np.int16).max:\n",
    "                    df[col] = df[col].astype(np.int16)\n",
    "                elif c_min > np.iinfo(np.int32).min and c_max < np.iinfo(np.int32).max:\n",
    "                    df[col] = df[col].astype(np.int32)\n",
    "                elif c_min > np.iinfo(np.int64).min and c_max < np.iinfo(np.int64).max:\n",
    "                    df[col] = df[col].astype(np.int64)\n",
    "                    \n",
    "            else:\n",
    "                if c_min > np.finfo(np.float16).min and c_max < np.finfo(np.float16).max:\n",
    "                    df[col] = df[col].astype(np.float16)\n",
    "                elif c_min > np.finfo(np.float32).min and c_max < np.finfo(np.float32).max:\n",
    "                    df[col] = df[col].astype(np.float32)\n",
    "                else:\n",
    "                    pass\n",
    "        else:\n",
    "            df[col] = df[col].astype('category')\n",
    "    \n",
    "    end_memory = df.memory_usage().sum() / 1024**2\n",
    "    print(f\"Memory usage of dataframe after reduction {end_memory} MB\")\n",
    "    print(f\"Reduced by {100 * (start_memory - end_memory) / start_memory} % \")\n",
    "    return df"
   ]
  },
  {
   "cell_type": "code",
   "execution_count": 4,
   "metadata": {},
   "outputs": [
    {
     "name": "stdout",
     "output_type": "stream",
     "text": [
      "--- 58.70051670074463 seconds ---\n"
     ]
    }
   ],
   "source": [
    "# import original data and measure time \n",
    "start_time = time.time()\n",
    "df = pd.read_csv('train.csv')\n",
    "features = pd.read_csv('~/Desktop/Kaggle Comp-Jane Street/features.csv')\n",
    "print(\"--- %s seconds ---\" % (time.time() - start_time))"
   ]
  },
  {
   "cell_type": "code",
   "execution_count": 5,
   "metadata": {},
   "outputs": [
    {
     "data": {
      "text/plain": [
       "2390491"
      ]
     },
     "execution_count": 5,
     "metadata": {},
     "output_type": "execute_result"
    }
   ],
   "source": [
    "len(df)"
   ]
  },
  {
   "cell_type": "markdown",
   "metadata": {},
   "source": [
    "# Feature engineering : \n",
    "\n",
    "## Extract only 1/10 of data to increase the process speed / scaled"
   ]
  },
  {
   "cell_type": "code",
   "execution_count": 10,
   "metadata": {},
   "outputs": [
    {
     "name": "stdout",
     "output_type": "stream",
     "text": [
      "--- 56.67313599586487 seconds ---\n"
     ]
    }
   ],
   "source": [
    "start_time = time.time() \n",
    "new_df = []\n",
    "\n",
    "#for i in range(1, round( len(df)/10 ) ):\n",
    "#     new_df[i] =  df.iloc[i*10]\n",
    "\n",
    "for i in range(1, round( len(df)/10 ) ):\n",
    "     row10 = df.iloc[i*10]\n",
    "     new_df.append(row10)\n",
    "\n",
    "new_df = pd.DataFrame(new_df)\n",
    "new_df.head()        \n",
    "\n",
    "print(\"--- %s seconds ---\" % (time.time() - start_time))"
   ]
  },
  {
   "cell_type": "code",
   "execution_count": 103,
   "metadata": {},
   "outputs": [
    {
     "data": {
      "text/plain": [
       "239048"
      ]
     },
     "execution_count": 103,
     "metadata": {},
     "output_type": "execute_result"
    }
   ],
   "source": [
    "len(new_df)"
   ]
  },
  {
   "cell_type": "code",
   "execution_count": 6,
   "metadata": {},
   "outputs": [
    {
     "data": {
      "text/html": [
       "<div>\n",
       "<style scoped>\n",
       "    .dataframe tbody tr th:only-of-type {\n",
       "        vertical-align: middle;\n",
       "    }\n",
       "\n",
       "    .dataframe tbody tr th {\n",
       "        vertical-align: top;\n",
       "    }\n",
       "\n",
       "    .dataframe thead th {\n",
       "        text-align: right;\n",
       "    }\n",
       "</style>\n",
       "<table border=\"1\" class=\"dataframe\">\n",
       "  <thead>\n",
       "    <tr style=\"text-align: right;\">\n",
       "      <th></th>\n",
       "      <th>date</th>\n",
       "      <th>weight</th>\n",
       "      <th>resp_1</th>\n",
       "      <th>resp_2</th>\n",
       "      <th>resp_3</th>\n",
       "      <th>resp_4</th>\n",
       "      <th>resp</th>\n",
       "      <th>feature_0</th>\n",
       "      <th>feature_1</th>\n",
       "      <th>feature_2</th>\n",
       "      <th>...</th>\n",
       "      <th>feature_121</th>\n",
       "      <th>feature_122</th>\n",
       "      <th>feature_123</th>\n",
       "      <th>feature_124</th>\n",
       "      <th>feature_125</th>\n",
       "      <th>feature_126</th>\n",
       "      <th>feature_127</th>\n",
       "      <th>feature_128</th>\n",
       "      <th>feature_129</th>\n",
       "      <th>ts_id</th>\n",
       "    </tr>\n",
       "  </thead>\n",
       "  <tbody>\n",
       "    <tr>\n",
       "      <th>10</th>\n",
       "      <td>0.0</td>\n",
       "      <td>0.109651</td>\n",
       "      <td>0.006899</td>\n",
       "      <td>0.003405</td>\n",
       "      <td>0.000134</td>\n",
       "      <td>-0.003040</td>\n",
       "      <td>-0.000690</td>\n",
       "      <td>1.0</td>\n",
       "      <td>-3.172026</td>\n",
       "      <td>-3.093182</td>\n",
       "      <td>...</td>\n",
       "      <td>NaN</td>\n",
       "      <td>2.324290</td>\n",
       "      <td>4.881133</td>\n",
       "      <td>2.115830</td>\n",
       "      <td>6.337250</td>\n",
       "      <td>3.059392</td>\n",
       "      <td>5.350729</td>\n",
       "      <td>2.755876</td>\n",
       "      <td>4.968388</td>\n",
       "      <td>10.0</td>\n",
       "    </tr>\n",
       "    <tr>\n",
       "      <th>20</th>\n",
       "      <td>0.0</td>\n",
       "      <td>5.249721</td>\n",
       "      <td>0.004579</td>\n",
       "      <td>0.005255</td>\n",
       "      <td>0.003402</td>\n",
       "      <td>0.003055</td>\n",
       "      <td>0.005213</td>\n",
       "      <td>-1.0</td>\n",
       "      <td>-1.316192</td>\n",
       "      <td>-1.691630</td>\n",
       "      <td>...</td>\n",
       "      <td>NaN</td>\n",
       "      <td>1.322001</td>\n",
       "      <td>4.704479</td>\n",
       "      <td>2.030342</td>\n",
       "      <td>8.664091</td>\n",
       "      <td>2.743058</td>\n",
       "      <td>7.060875</td>\n",
       "      <td>1.650928</td>\n",
       "      <td>4.904831</td>\n",
       "      <td>20.0</td>\n",
       "    </tr>\n",
       "    <tr>\n",
       "      <th>30</th>\n",
       "      <td>0.0</td>\n",
       "      <td>13.419400</td>\n",
       "      <td>0.005940</td>\n",
       "      <td>0.006978</td>\n",
       "      <td>0.005864</td>\n",
       "      <td>0.009678</td>\n",
       "      <td>0.010908</td>\n",
       "      <td>1.0</td>\n",
       "      <td>-3.172026</td>\n",
       "      <td>-3.093182</td>\n",
       "      <td>...</td>\n",
       "      <td>NaN</td>\n",
       "      <td>0.909863</td>\n",
       "      <td>3.467216</td>\n",
       "      <td>1.848538</td>\n",
       "      <td>7.622972</td>\n",
       "      <td>2.486547</td>\n",
       "      <td>6.124114</td>\n",
       "      <td>1.601317</td>\n",
       "      <td>4.452935</td>\n",
       "      <td>30.0</td>\n",
       "    </tr>\n",
       "    <tr>\n",
       "      <th>40</th>\n",
       "      <td>0.0</td>\n",
       "      <td>1.159040</td>\n",
       "      <td>-0.008460</td>\n",
       "      <td>-0.009266</td>\n",
       "      <td>0.026637</td>\n",
       "      <td>0.109863</td>\n",
       "      <td>0.074078</td>\n",
       "      <td>-1.0</td>\n",
       "      <td>2.112653</td>\n",
       "      <td>0.008681</td>\n",
       "      <td>...</td>\n",
       "      <td>NaN</td>\n",
       "      <td>12.757619</td>\n",
       "      <td>3.887723</td>\n",
       "      <td>9.988868</td>\n",
       "      <td>3.589536</td>\n",
       "      <td>13.292899</td>\n",
       "      <td>3.291133</td>\n",
       "      <td>12.821835</td>\n",
       "      <td>3.291217</td>\n",
       "      <td>40.0</td>\n",
       "    </tr>\n",
       "    <tr>\n",
       "      <th>50</th>\n",
       "      <td>0.0</td>\n",
       "      <td>0.666351</td>\n",
       "      <td>0.008273</td>\n",
       "      <td>0.007583</td>\n",
       "      <td>0.015846</td>\n",
       "      <td>0.025220</td>\n",
       "      <td>0.019191</td>\n",
       "      <td>-1.0</td>\n",
       "      <td>0.383771</td>\n",
       "      <td>-0.415101</td>\n",
       "      <td>...</td>\n",
       "      <td>NaN</td>\n",
       "      <td>4.984380</td>\n",
       "      <td>10.391276</td>\n",
       "      <td>8.831754</td>\n",
       "      <td>23.017784</td>\n",
       "      <td>10.145836</td>\n",
       "      <td>18.969491</td>\n",
       "      <td>6.472845</td>\n",
       "      <td>12.143004</td>\n",
       "      <td>50.0</td>\n",
       "    </tr>\n",
       "  </tbody>\n",
       "</table>\n",
       "<p>5 rows × 138 columns</p>\n",
       "</div>"
      ],
      "text/plain": [
       "    date     weight    resp_1    resp_2    resp_3    resp_4      resp  \\\n",
       "10   0.0   0.109651  0.006899  0.003405  0.000134 -0.003040 -0.000690   \n",
       "20   0.0   5.249721  0.004579  0.005255  0.003402  0.003055  0.005213   \n",
       "30   0.0  13.419400  0.005940  0.006978  0.005864  0.009678  0.010908   \n",
       "40   0.0   1.159040 -0.008460 -0.009266  0.026637  0.109863  0.074078   \n",
       "50   0.0   0.666351  0.008273  0.007583  0.015846  0.025220  0.019191   \n",
       "\n",
       "    feature_0  feature_1  feature_2  ...  feature_121  feature_122  \\\n",
       "10        1.0  -3.172026  -3.093182  ...          NaN     2.324290   \n",
       "20       -1.0  -1.316192  -1.691630  ...          NaN     1.322001   \n",
       "30        1.0  -3.172026  -3.093182  ...          NaN     0.909863   \n",
       "40       -1.0   2.112653   0.008681  ...          NaN    12.757619   \n",
       "50       -1.0   0.383771  -0.415101  ...          NaN     4.984380   \n",
       "\n",
       "    feature_123  feature_124  feature_125  feature_126  feature_127  \\\n",
       "10     4.881133     2.115830     6.337250     3.059392     5.350729   \n",
       "20     4.704479     2.030342     8.664091     2.743058     7.060875   \n",
       "30     3.467216     1.848538     7.622972     2.486547     6.124114   \n",
       "40     3.887723     9.988868     3.589536    13.292899     3.291133   \n",
       "50    10.391276     8.831754    23.017784    10.145836    18.969491   \n",
       "\n",
       "    feature_128  feature_129  ts_id  \n",
       "10     2.755876     4.968388   10.0  \n",
       "20     1.650928     4.904831   20.0  \n",
       "30     1.601317     4.452935   30.0  \n",
       "40    12.821835     3.291217   40.0  \n",
       "50     6.472845    12.143004   50.0  \n",
       "\n",
       "[5 rows x 138 columns]"
      ]
     },
     "execution_count": 6,
     "metadata": {},
     "output_type": "execute_result"
    }
   ],
   "source": [
    "new_df.head()"
   ]
  },
  {
   "cell_type": "code",
   "execution_count": 7,
   "metadata": {},
   "outputs": [
    {
     "data": {
      "text/plain": [
       "(239048, 138)"
      ]
     },
     "execution_count": 7,
     "metadata": {},
     "output_type": "execute_result"
    }
   ],
   "source": [
    "new_df.shape"
   ]
  },
  {
   "cell_type": "markdown",
   "metadata": {},
   "source": [
    "# Adding return column\n",
    "\n",
    "Firstly, we added a ‘return’ column, which is a ‘weight’ multiplied by ‘resp’ values in each row. \n",
    "Next, we calculated the ‘action’ column to the dataset, which is determined by the ‘return’ value from the previous step. If the ‘return’ value is greater than zero, then ‘action’ value is equal to 1 whereas zero for all other values.\n"
   ]
  },
  {
   "cell_type": "code",
   "execution_count": 6,
   "metadata": {},
   "outputs": [],
   "source": [
    "# Scaling - Scaling means when we had to go back and use the full data set to see \n",
    "# if the models held up to a larger quantity of data \n",
    "\n",
    "df['return'] = df['resp']*df['weight']"
   ]
  },
  {
   "cell_type": "code",
   "execution_count": 11,
   "metadata": {},
   "outputs": [
    {
     "data": {
      "text/html": [
       "<div>\n",
       "<style scoped>\n",
       "    .dataframe tbody tr th:only-of-type {\n",
       "        vertical-align: middle;\n",
       "    }\n",
       "\n",
       "    .dataframe tbody tr th {\n",
       "        vertical-align: top;\n",
       "    }\n",
       "\n",
       "    .dataframe thead th {\n",
       "        text-align: right;\n",
       "    }\n",
       "</style>\n",
       "<table border=\"1\" class=\"dataframe\">\n",
       "  <thead>\n",
       "    <tr style=\"text-align: right;\">\n",
       "      <th></th>\n",
       "      <th>date</th>\n",
       "      <th>weight</th>\n",
       "      <th>resp_1</th>\n",
       "      <th>resp_2</th>\n",
       "      <th>resp_3</th>\n",
       "      <th>resp_4</th>\n",
       "      <th>resp</th>\n",
       "      <th>feature_0</th>\n",
       "      <th>feature_1</th>\n",
       "      <th>feature_2</th>\n",
       "      <th>...</th>\n",
       "      <th>feature_122</th>\n",
       "      <th>feature_123</th>\n",
       "      <th>feature_124</th>\n",
       "      <th>feature_125</th>\n",
       "      <th>feature_126</th>\n",
       "      <th>feature_127</th>\n",
       "      <th>feature_128</th>\n",
       "      <th>feature_129</th>\n",
       "      <th>ts_id</th>\n",
       "      <th>return</th>\n",
       "    </tr>\n",
       "  </thead>\n",
       "  <tbody>\n",
       "    <tr>\n",
       "      <th>10</th>\n",
       "      <td>0.0</td>\n",
       "      <td>0.109651</td>\n",
       "      <td>0.006899</td>\n",
       "      <td>0.003405</td>\n",
       "      <td>0.000134</td>\n",
       "      <td>-0.003040</td>\n",
       "      <td>-0.000690</td>\n",
       "      <td>1.0</td>\n",
       "      <td>-3.172026</td>\n",
       "      <td>-3.093182</td>\n",
       "      <td>...</td>\n",
       "      <td>2.324290</td>\n",
       "      <td>4.881133</td>\n",
       "      <td>2.115830</td>\n",
       "      <td>6.337250</td>\n",
       "      <td>3.059392</td>\n",
       "      <td>5.350729</td>\n",
       "      <td>2.755876</td>\n",
       "      <td>4.968388</td>\n",
       "      <td>10.0</td>\n",
       "      <td>-0.000076</td>\n",
       "    </tr>\n",
       "    <tr>\n",
       "      <th>20</th>\n",
       "      <td>0.0</td>\n",
       "      <td>5.249721</td>\n",
       "      <td>0.004579</td>\n",
       "      <td>0.005255</td>\n",
       "      <td>0.003402</td>\n",
       "      <td>0.003055</td>\n",
       "      <td>0.005213</td>\n",
       "      <td>-1.0</td>\n",
       "      <td>-1.316192</td>\n",
       "      <td>-1.691630</td>\n",
       "      <td>...</td>\n",
       "      <td>1.322001</td>\n",
       "      <td>4.704479</td>\n",
       "      <td>2.030342</td>\n",
       "      <td>8.664091</td>\n",
       "      <td>2.743058</td>\n",
       "      <td>7.060875</td>\n",
       "      <td>1.650928</td>\n",
       "      <td>4.904831</td>\n",
       "      <td>20.0</td>\n",
       "      <td>0.027366</td>\n",
       "    </tr>\n",
       "    <tr>\n",
       "      <th>30</th>\n",
       "      <td>0.0</td>\n",
       "      <td>13.419400</td>\n",
       "      <td>0.005940</td>\n",
       "      <td>0.006978</td>\n",
       "      <td>0.005864</td>\n",
       "      <td>0.009678</td>\n",
       "      <td>0.010908</td>\n",
       "      <td>1.0</td>\n",
       "      <td>-3.172026</td>\n",
       "      <td>-3.093182</td>\n",
       "      <td>...</td>\n",
       "      <td>0.909863</td>\n",
       "      <td>3.467216</td>\n",
       "      <td>1.848538</td>\n",
       "      <td>7.622972</td>\n",
       "      <td>2.486547</td>\n",
       "      <td>6.124114</td>\n",
       "      <td>1.601317</td>\n",
       "      <td>4.452935</td>\n",
       "      <td>30.0</td>\n",
       "      <td>0.146382</td>\n",
       "    </tr>\n",
       "    <tr>\n",
       "      <th>40</th>\n",
       "      <td>0.0</td>\n",
       "      <td>1.159040</td>\n",
       "      <td>-0.008460</td>\n",
       "      <td>-0.009266</td>\n",
       "      <td>0.026637</td>\n",
       "      <td>0.109863</td>\n",
       "      <td>0.074078</td>\n",
       "      <td>-1.0</td>\n",
       "      <td>2.112653</td>\n",
       "      <td>0.008681</td>\n",
       "      <td>...</td>\n",
       "      <td>12.757619</td>\n",
       "      <td>3.887723</td>\n",
       "      <td>9.988868</td>\n",
       "      <td>3.589536</td>\n",
       "      <td>13.292899</td>\n",
       "      <td>3.291133</td>\n",
       "      <td>12.821835</td>\n",
       "      <td>3.291217</td>\n",
       "      <td>40.0</td>\n",
       "      <td>0.085859</td>\n",
       "    </tr>\n",
       "    <tr>\n",
       "      <th>50</th>\n",
       "      <td>0.0</td>\n",
       "      <td>0.666351</td>\n",
       "      <td>0.008273</td>\n",
       "      <td>0.007583</td>\n",
       "      <td>0.015846</td>\n",
       "      <td>0.025220</td>\n",
       "      <td>0.019191</td>\n",
       "      <td>-1.0</td>\n",
       "      <td>0.383771</td>\n",
       "      <td>-0.415101</td>\n",
       "      <td>...</td>\n",
       "      <td>4.984380</td>\n",
       "      <td>10.391276</td>\n",
       "      <td>8.831754</td>\n",
       "      <td>23.017784</td>\n",
       "      <td>10.145836</td>\n",
       "      <td>18.969491</td>\n",
       "      <td>6.472845</td>\n",
       "      <td>12.143004</td>\n",
       "      <td>50.0</td>\n",
       "      <td>0.012788</td>\n",
       "    </tr>\n",
       "  </tbody>\n",
       "</table>\n",
       "<p>5 rows × 139 columns</p>\n",
       "</div>"
      ],
      "text/plain": [
       "    date     weight    resp_1    resp_2    resp_3    resp_4      resp  \\\n",
       "10   0.0   0.109651  0.006899  0.003405  0.000134 -0.003040 -0.000690   \n",
       "20   0.0   5.249721  0.004579  0.005255  0.003402  0.003055  0.005213   \n",
       "30   0.0  13.419400  0.005940  0.006978  0.005864  0.009678  0.010908   \n",
       "40   0.0   1.159040 -0.008460 -0.009266  0.026637  0.109863  0.074078   \n",
       "50   0.0   0.666351  0.008273  0.007583  0.015846  0.025220  0.019191   \n",
       "\n",
       "    feature_0  feature_1  feature_2  ...  feature_122  feature_123  \\\n",
       "10        1.0  -3.172026  -3.093182  ...     2.324290     4.881133   \n",
       "20       -1.0  -1.316192  -1.691630  ...     1.322001     4.704479   \n",
       "30        1.0  -3.172026  -3.093182  ...     0.909863     3.467216   \n",
       "40       -1.0   2.112653   0.008681  ...    12.757619     3.887723   \n",
       "50       -1.0   0.383771  -0.415101  ...     4.984380    10.391276   \n",
       "\n",
       "    feature_124  feature_125  feature_126  feature_127  feature_128  \\\n",
       "10     2.115830     6.337250     3.059392     5.350729     2.755876   \n",
       "20     2.030342     8.664091     2.743058     7.060875     1.650928   \n",
       "30     1.848538     7.622972     2.486547     6.124114     1.601317   \n",
       "40     9.988868     3.589536    13.292899     3.291133    12.821835   \n",
       "50     8.831754    23.017784    10.145836    18.969491     6.472845   \n",
       "\n",
       "    feature_129  ts_id    return  \n",
       "10     4.968388   10.0 -0.000076  \n",
       "20     4.904831   20.0  0.027366  \n",
       "30     4.452935   30.0  0.146382  \n",
       "40     3.291217   40.0  0.085859  \n",
       "50    12.143004   50.0  0.012788  \n",
       "\n",
       "[5 rows x 139 columns]"
      ]
     },
     "execution_count": 11,
     "metadata": {},
     "output_type": "execute_result"
    }
   ],
   "source": [
    "# return\n",
    "new_df['return'] = new_df['resp']*new_df['weight']\n",
    "\n",
    "new_df['return'] = new_df['resp']*new_df['weight']\n",
    "new_df.head()"
   ]
  },
  {
   "cell_type": "code",
   "execution_count": 7,
   "metadata": {},
   "outputs": [],
   "source": [
    "# Scaling \n",
    "df.loc[df['resp'] > 0, 'action'] = 1\n",
    "df.loc[df['resp'] <= 0, 'action'] = 0"
   ]
  },
  {
   "cell_type": "code",
   "execution_count": 12,
   "metadata": {},
   "outputs": [
    {
     "data": {
      "text/html": [
       "<div>\n",
       "<style scoped>\n",
       "    .dataframe tbody tr th:only-of-type {\n",
       "        vertical-align: middle;\n",
       "    }\n",
       "\n",
       "    .dataframe tbody tr th {\n",
       "        vertical-align: top;\n",
       "    }\n",
       "\n",
       "    .dataframe thead th {\n",
       "        text-align: right;\n",
       "    }\n",
       "</style>\n",
       "<table border=\"1\" class=\"dataframe\">\n",
       "  <thead>\n",
       "    <tr style=\"text-align: right;\">\n",
       "      <th></th>\n",
       "      <th>date</th>\n",
       "      <th>weight</th>\n",
       "      <th>resp_1</th>\n",
       "      <th>resp_2</th>\n",
       "      <th>resp_3</th>\n",
       "      <th>resp_4</th>\n",
       "      <th>resp</th>\n",
       "      <th>feature_0</th>\n",
       "      <th>feature_1</th>\n",
       "      <th>feature_2</th>\n",
       "      <th>...</th>\n",
       "      <th>feature_123</th>\n",
       "      <th>feature_124</th>\n",
       "      <th>feature_125</th>\n",
       "      <th>feature_126</th>\n",
       "      <th>feature_127</th>\n",
       "      <th>feature_128</th>\n",
       "      <th>feature_129</th>\n",
       "      <th>ts_id</th>\n",
       "      <th>return</th>\n",
       "      <th>action</th>\n",
       "    </tr>\n",
       "  </thead>\n",
       "  <tbody>\n",
       "    <tr>\n",
       "      <th>10</th>\n",
       "      <td>0.0</td>\n",
       "      <td>0.109651</td>\n",
       "      <td>0.006899</td>\n",
       "      <td>0.003405</td>\n",
       "      <td>0.000134</td>\n",
       "      <td>-0.003040</td>\n",
       "      <td>-0.000690</td>\n",
       "      <td>1.0</td>\n",
       "      <td>-3.172026</td>\n",
       "      <td>-3.093182</td>\n",
       "      <td>...</td>\n",
       "      <td>4.881133</td>\n",
       "      <td>2.115830</td>\n",
       "      <td>6.337250</td>\n",
       "      <td>3.059392</td>\n",
       "      <td>5.350729</td>\n",
       "      <td>2.755876</td>\n",
       "      <td>4.968388</td>\n",
       "      <td>10.0</td>\n",
       "      <td>-0.000076</td>\n",
       "      <td>0.0</td>\n",
       "    </tr>\n",
       "    <tr>\n",
       "      <th>20</th>\n",
       "      <td>0.0</td>\n",
       "      <td>5.249721</td>\n",
       "      <td>0.004579</td>\n",
       "      <td>0.005255</td>\n",
       "      <td>0.003402</td>\n",
       "      <td>0.003055</td>\n",
       "      <td>0.005213</td>\n",
       "      <td>-1.0</td>\n",
       "      <td>-1.316192</td>\n",
       "      <td>-1.691630</td>\n",
       "      <td>...</td>\n",
       "      <td>4.704479</td>\n",
       "      <td>2.030342</td>\n",
       "      <td>8.664091</td>\n",
       "      <td>2.743058</td>\n",
       "      <td>7.060875</td>\n",
       "      <td>1.650928</td>\n",
       "      <td>4.904831</td>\n",
       "      <td>20.0</td>\n",
       "      <td>0.027366</td>\n",
       "      <td>1.0</td>\n",
       "    </tr>\n",
       "    <tr>\n",
       "      <th>30</th>\n",
       "      <td>0.0</td>\n",
       "      <td>13.419400</td>\n",
       "      <td>0.005940</td>\n",
       "      <td>0.006978</td>\n",
       "      <td>0.005864</td>\n",
       "      <td>0.009678</td>\n",
       "      <td>0.010908</td>\n",
       "      <td>1.0</td>\n",
       "      <td>-3.172026</td>\n",
       "      <td>-3.093182</td>\n",
       "      <td>...</td>\n",
       "      <td>3.467216</td>\n",
       "      <td>1.848538</td>\n",
       "      <td>7.622972</td>\n",
       "      <td>2.486547</td>\n",
       "      <td>6.124114</td>\n",
       "      <td>1.601317</td>\n",
       "      <td>4.452935</td>\n",
       "      <td>30.0</td>\n",
       "      <td>0.146382</td>\n",
       "      <td>1.0</td>\n",
       "    </tr>\n",
       "    <tr>\n",
       "      <th>40</th>\n",
       "      <td>0.0</td>\n",
       "      <td>1.159040</td>\n",
       "      <td>-0.008460</td>\n",
       "      <td>-0.009266</td>\n",
       "      <td>0.026637</td>\n",
       "      <td>0.109863</td>\n",
       "      <td>0.074078</td>\n",
       "      <td>-1.0</td>\n",
       "      <td>2.112653</td>\n",
       "      <td>0.008681</td>\n",
       "      <td>...</td>\n",
       "      <td>3.887723</td>\n",
       "      <td>9.988868</td>\n",
       "      <td>3.589536</td>\n",
       "      <td>13.292899</td>\n",
       "      <td>3.291133</td>\n",
       "      <td>12.821835</td>\n",
       "      <td>3.291217</td>\n",
       "      <td>40.0</td>\n",
       "      <td>0.085859</td>\n",
       "      <td>1.0</td>\n",
       "    </tr>\n",
       "    <tr>\n",
       "      <th>50</th>\n",
       "      <td>0.0</td>\n",
       "      <td>0.666351</td>\n",
       "      <td>0.008273</td>\n",
       "      <td>0.007583</td>\n",
       "      <td>0.015846</td>\n",
       "      <td>0.025220</td>\n",
       "      <td>0.019191</td>\n",
       "      <td>-1.0</td>\n",
       "      <td>0.383771</td>\n",
       "      <td>-0.415101</td>\n",
       "      <td>...</td>\n",
       "      <td>10.391276</td>\n",
       "      <td>8.831754</td>\n",
       "      <td>23.017784</td>\n",
       "      <td>10.145836</td>\n",
       "      <td>18.969491</td>\n",
       "      <td>6.472845</td>\n",
       "      <td>12.143004</td>\n",
       "      <td>50.0</td>\n",
       "      <td>0.012788</td>\n",
       "      <td>1.0</td>\n",
       "    </tr>\n",
       "  </tbody>\n",
       "</table>\n",
       "<p>5 rows × 140 columns</p>\n",
       "</div>"
      ],
      "text/plain": [
       "    date     weight    resp_1    resp_2    resp_3    resp_4      resp  \\\n",
       "10   0.0   0.109651  0.006899  0.003405  0.000134 -0.003040 -0.000690   \n",
       "20   0.0   5.249721  0.004579  0.005255  0.003402  0.003055  0.005213   \n",
       "30   0.0  13.419400  0.005940  0.006978  0.005864  0.009678  0.010908   \n",
       "40   0.0   1.159040 -0.008460 -0.009266  0.026637  0.109863  0.074078   \n",
       "50   0.0   0.666351  0.008273  0.007583  0.015846  0.025220  0.019191   \n",
       "\n",
       "    feature_0  feature_1  feature_2  ...  feature_123  feature_124  \\\n",
       "10        1.0  -3.172026  -3.093182  ...     4.881133     2.115830   \n",
       "20       -1.0  -1.316192  -1.691630  ...     4.704479     2.030342   \n",
       "30        1.0  -3.172026  -3.093182  ...     3.467216     1.848538   \n",
       "40       -1.0   2.112653   0.008681  ...     3.887723     9.988868   \n",
       "50       -1.0   0.383771  -0.415101  ...    10.391276     8.831754   \n",
       "\n",
       "    feature_125  feature_126  feature_127  feature_128  feature_129  ts_id  \\\n",
       "10     6.337250     3.059392     5.350729     2.755876     4.968388   10.0   \n",
       "20     8.664091     2.743058     7.060875     1.650928     4.904831   20.0   \n",
       "30     7.622972     2.486547     6.124114     1.601317     4.452935   30.0   \n",
       "40     3.589536    13.292899     3.291133    12.821835     3.291217   40.0   \n",
       "50    23.017784    10.145836    18.969491     6.472845    12.143004   50.0   \n",
       "\n",
       "      return  action  \n",
       "10 -0.000076     0.0  \n",
       "20  0.027366     1.0  \n",
       "30  0.146382     1.0  \n",
       "40  0.085859     1.0  \n",
       "50  0.012788     1.0  \n",
       "\n",
       "[5 rows x 140 columns]"
      ]
     },
     "execution_count": 12,
     "metadata": {},
     "output_type": "execute_result"
    }
   ],
   "source": [
    "# creating a new column called \"action\"\n",
    "new_df.loc[new_df['resp'] > 0, 'action'] = 1\n",
    "new_df.loc[new_df['resp'] <= 0, 'action'] = 0\n",
    "new_df.head()"
   ]
  },
  {
   "cell_type": "code",
   "execution_count": 14,
   "metadata": {},
   "outputs": [
    {
     "data": {
      "text/plain": [
       "date             0\n",
       "weight           0\n",
       "resp_1           0\n",
       "resp_2           0\n",
       "resp_3           0\n",
       "              ... \n",
       "feature_128    178\n",
       "feature_129    178\n",
       "ts_id            0\n",
       "return           0\n",
       "action           0\n",
       "Length: 140, dtype: int64"
      ]
     },
     "execution_count": 14,
     "metadata": {},
     "output_type": "execute_result"
    }
   ],
   "source": [
    "# finding missing value\n",
    "new_df.isnull().sum()"
   ]
  },
  {
   "cell_type": "code",
   "execution_count": 8,
   "metadata": {},
   "outputs": [
    {
     "data": {
      "text/plain": [
       "action\n",
       "0.0    1185517\n",
       "1.0    1204974\n",
       "Name: action, dtype: int64"
      ]
     },
     "execution_count": 8,
     "metadata": {},
     "output_type": "execute_result"
    }
   ],
   "source": [
    "# Scaling \n",
    "df['action'].groupby(df['action']).agg('count')"
   ]
  },
  {
   "cell_type": "code",
   "execution_count": 10,
   "metadata": {},
   "outputs": [
    {
     "data": {
      "text/plain": [
       "action\n",
       "0.0    118561\n",
       "1.0    120487\n",
       "Name: action, dtype: int64"
      ]
     },
     "execution_count": 10,
     "metadata": {},
     "output_type": "execute_result"
    }
   ],
   "source": [
    "new_df['action'].groupby(new_df['action']).agg('count')"
   ]
  },
  {
   "cell_type": "code",
   "execution_count": 110,
   "metadata": {},
   "outputs": [
    {
     "data": {
      "text/plain": [
       "<matplotlib.axes._subplots.AxesSubplot at 0x12ea98d00>"
      ]
     },
     "execution_count": 110,
     "metadata": {},
     "output_type": "execute_result"
    },
    {
     "data": {
      "image/png": "[encoded data removed]",
      "text/plain": [
       "<Figure size 360x360 with 1 Axes>"
      ]
     },
     "metadata": {},
     "output_type": "display_data"
    }
   ],
   "source": [
    "# heatmap\n",
    "plt.subplots(figsize=(5,5))\n",
    "sns.heatmap(new_df,  cbar=False)"
   ]
  },
  {
   "cell_type": "markdown",
   "metadata": {},
   "source": [
    "# Missing data management\n",
    "\n",
    "The dataset contains missing data and it is replaced by the median value of each column.\n",
    "To fill in the missing values we choose to use the median values of each feature. Our reasoning for this was because the median value doesn’t get pulled with outliers like how using the mean would be. We didn’t want to delete rows on the full dataset because it is a time series data. If we chose to use the timeseries element of the dataset we would be missing timesteps. Imputing based on a normal distribution is something to look at but we ultimately didn’t do\n"
   ]
  },
  {
   "cell_type": "code",
   "execution_count": 9,
   "metadata": {},
   "outputs": [
    {
     "data": {
      "text/plain": [
       "[]"
      ]
     },
     "execution_count": 9,
     "metadata": {},
     "output_type": "execute_result"
    }
   ],
   "source": [
    "# Scaling \n",
    "df = df.fillna(df.median())\n",
    "\n",
    "# no more missing values \n",
    "[col for col in df.columns if df[col].isnull().any()]"
   ]
  },
  {
   "cell_type": "code",
   "execution_count": 15,
   "metadata": {},
   "outputs": [
    {
     "data": {
      "text/plain": [
       "[]"
      ]
     },
     "execution_count": 15,
     "metadata": {},
     "output_type": "execute_result"
    }
   ],
   "source": [
    "# Filling values with the median\n",
    "# Filling with the median value because it gives us a better representation of the data values \n",
    "# Also fitting a bidirectional lstm we need to keep all the rows for the sequance \n",
    "\n",
    "new_df = new_df.fillna(new_df.median())\n",
    "\n",
    "# no more missing values \n",
    "[col for col in new_df.columns if new_df[col].isnull().any()]"
   ]
  },
  {
   "cell_type": "code",
   "execution_count": 13,
   "metadata": {},
   "outputs": [
    {
     "data": {
      "text/plain": [
       "1.0    120487\n",
       "0.0    118561\n",
       "Name: action, dtype: int64"
      ]
     },
     "execution_count": 13,
     "metadata": {},
     "output_type": "execute_result"
    }
   ],
   "source": [
    "# counting how many of action values\n",
    "new_df['action'].value_counts()"
   ]
  },
  {
   "cell_type": "code",
   "execution_count": 16,
   "metadata": {},
   "outputs": [
    {
     "data": {
      "text/html": [
       "<div>\n",
       "<style scoped>\n",
       "    .dataframe tbody tr th:only-of-type {\n",
       "        vertical-align: middle;\n",
       "    }\n",
       "\n",
       "    .dataframe tbody tr th {\n",
       "        vertical-align: top;\n",
       "    }\n",
       "\n",
       "    .dataframe thead th {\n",
       "        text-align: right;\n",
       "    }\n",
       "</style>\n",
       "<table border=\"1\" class=\"dataframe\">\n",
       "  <thead>\n",
       "    <tr style=\"text-align: right;\">\n",
       "      <th></th>\n",
       "      <th>date</th>\n",
       "      <th>weight</th>\n",
       "      <th>resp_1</th>\n",
       "      <th>resp_2</th>\n",
       "      <th>resp_3</th>\n",
       "      <th>resp_4</th>\n",
       "      <th>resp</th>\n",
       "      <th>feature_0</th>\n",
       "      <th>feature_1</th>\n",
       "      <th>feature_2</th>\n",
       "      <th>...</th>\n",
       "      <th>feature_123</th>\n",
       "      <th>feature_124</th>\n",
       "      <th>feature_125</th>\n",
       "      <th>feature_126</th>\n",
       "      <th>feature_127</th>\n",
       "      <th>feature_128</th>\n",
       "      <th>feature_129</th>\n",
       "      <th>ts_id</th>\n",
       "      <th>return</th>\n",
       "      <th>action</th>\n",
       "    </tr>\n",
       "  </thead>\n",
       "  <tbody>\n",
       "    <tr>\n",
       "      <th>10</th>\n",
       "      <td>0.0</td>\n",
       "      <td>0.109651</td>\n",
       "      <td>0.006899</td>\n",
       "      <td>0.003405</td>\n",
       "      <td>0.000134</td>\n",
       "      <td>-0.003040</td>\n",
       "      <td>-0.000690</td>\n",
       "      <td>1.0</td>\n",
       "      <td>-3.172026</td>\n",
       "      <td>-3.093182</td>\n",
       "      <td>...</td>\n",
       "      <td>4.881133</td>\n",
       "      <td>2.115830</td>\n",
       "      <td>6.337250</td>\n",
       "      <td>3.059392</td>\n",
       "      <td>5.350729</td>\n",
       "      <td>2.755876</td>\n",
       "      <td>4.968388</td>\n",
       "      <td>10.0</td>\n",
       "      <td>-0.000076</td>\n",
       "      <td>0.0</td>\n",
       "    </tr>\n",
       "    <tr>\n",
       "      <th>20</th>\n",
       "      <td>0.0</td>\n",
       "      <td>5.249721</td>\n",
       "      <td>0.004579</td>\n",
       "      <td>0.005255</td>\n",
       "      <td>0.003402</td>\n",
       "      <td>0.003055</td>\n",
       "      <td>0.005213</td>\n",
       "      <td>-1.0</td>\n",
       "      <td>-1.316192</td>\n",
       "      <td>-1.691630</td>\n",
       "      <td>...</td>\n",
       "      <td>4.704479</td>\n",
       "      <td>2.030342</td>\n",
       "      <td>8.664091</td>\n",
       "      <td>2.743058</td>\n",
       "      <td>7.060875</td>\n",
       "      <td>1.650928</td>\n",
       "      <td>4.904831</td>\n",
       "      <td>20.0</td>\n",
       "      <td>0.027366</td>\n",
       "      <td>1.0</td>\n",
       "    </tr>\n",
       "    <tr>\n",
       "      <th>30</th>\n",
       "      <td>0.0</td>\n",
       "      <td>13.419400</td>\n",
       "      <td>0.005940</td>\n",
       "      <td>0.006978</td>\n",
       "      <td>0.005864</td>\n",
       "      <td>0.009678</td>\n",
       "      <td>0.010908</td>\n",
       "      <td>1.0</td>\n",
       "      <td>-3.172026</td>\n",
       "      <td>-3.093182</td>\n",
       "      <td>...</td>\n",
       "      <td>3.467216</td>\n",
       "      <td>1.848538</td>\n",
       "      <td>7.622972</td>\n",
       "      <td>2.486547</td>\n",
       "      <td>6.124114</td>\n",
       "      <td>1.601317</td>\n",
       "      <td>4.452935</td>\n",
       "      <td>30.0</td>\n",
       "      <td>0.146382</td>\n",
       "      <td>1.0</td>\n",
       "    </tr>\n",
       "    <tr>\n",
       "      <th>40</th>\n",
       "      <td>0.0</td>\n",
       "      <td>1.159040</td>\n",
       "      <td>-0.008460</td>\n",
       "      <td>-0.009266</td>\n",
       "      <td>0.026637</td>\n",
       "      <td>0.109863</td>\n",
       "      <td>0.074078</td>\n",
       "      <td>-1.0</td>\n",
       "      <td>2.112653</td>\n",
       "      <td>0.008681</td>\n",
       "      <td>...</td>\n",
       "      <td>3.887723</td>\n",
       "      <td>9.988868</td>\n",
       "      <td>3.589536</td>\n",
       "      <td>13.292899</td>\n",
       "      <td>3.291133</td>\n",
       "      <td>12.821835</td>\n",
       "      <td>3.291217</td>\n",
       "      <td>40.0</td>\n",
       "      <td>0.085859</td>\n",
       "      <td>1.0</td>\n",
       "    </tr>\n",
       "    <tr>\n",
       "      <th>50</th>\n",
       "      <td>0.0</td>\n",
       "      <td>0.666351</td>\n",
       "      <td>0.008273</td>\n",
       "      <td>0.007583</td>\n",
       "      <td>0.015846</td>\n",
       "      <td>0.025220</td>\n",
       "      <td>0.019191</td>\n",
       "      <td>-1.0</td>\n",
       "      <td>0.383771</td>\n",
       "      <td>-0.415101</td>\n",
       "      <td>...</td>\n",
       "      <td>10.391276</td>\n",
       "      <td>8.831754</td>\n",
       "      <td>23.017784</td>\n",
       "      <td>10.145836</td>\n",
       "      <td>18.969491</td>\n",
       "      <td>6.472845</td>\n",
       "      <td>12.143004</td>\n",
       "      <td>50.0</td>\n",
       "      <td>0.012788</td>\n",
       "      <td>1.0</td>\n",
       "    </tr>\n",
       "  </tbody>\n",
       "</table>\n",
       "<p>5 rows × 140 columns</p>\n",
       "</div>"
      ],
      "text/plain": [
       "    date     weight    resp_1    resp_2    resp_3    resp_4      resp  \\\n",
       "10   0.0   0.109651  0.006899  0.003405  0.000134 -0.003040 -0.000690   \n",
       "20   0.0   5.249721  0.004579  0.005255  0.003402  0.003055  0.005213   \n",
       "30   0.0  13.419400  0.005940  0.006978  0.005864  0.009678  0.010908   \n",
       "40   0.0   1.159040 -0.008460 -0.009266  0.026637  0.109863  0.074078   \n",
       "50   0.0   0.666351  0.008273  0.007583  0.015846  0.025220  0.019191   \n",
       "\n",
       "    feature_0  feature_1  feature_2  ...  feature_123  feature_124  \\\n",
       "10        1.0  -3.172026  -3.093182  ...     4.881133     2.115830   \n",
       "20       -1.0  -1.316192  -1.691630  ...     4.704479     2.030342   \n",
       "30        1.0  -3.172026  -3.093182  ...     3.467216     1.848538   \n",
       "40       -1.0   2.112653   0.008681  ...     3.887723     9.988868   \n",
       "50       -1.0   0.383771  -0.415101  ...    10.391276     8.831754   \n",
       "\n",
       "    feature_125  feature_126  feature_127  feature_128  feature_129  ts_id  \\\n",
       "10     6.337250     3.059392     5.350729     2.755876     4.968388   10.0   \n",
       "20     8.664091     2.743058     7.060875     1.650928     4.904831   20.0   \n",
       "30     7.622972     2.486547     6.124114     1.601317     4.452935   30.0   \n",
       "40     3.589536    13.292899     3.291133    12.821835     3.291217   40.0   \n",
       "50    23.017784    10.145836    18.969491     6.472845    12.143004   50.0   \n",
       "\n",
       "      return  action  \n",
       "10 -0.000076     0.0  \n",
       "20  0.027366     1.0  \n",
       "30  0.146382     1.0  \n",
       "40  0.085859     1.0  \n",
       "50  0.012788     1.0  \n",
       "\n",
       "[5 rows x 140 columns]"
      ]
     },
     "execution_count": 16,
     "metadata": {},
     "output_type": "execute_result"
    }
   ],
   "source": [
    "new_df.head()"
   ]
  },
  {
   "cell_type": "code",
   "execution_count": 115,
   "metadata": {},
   "outputs": [
    {
     "data": {
      "text/plain": [
       "Text(0.5, 1.0, 'Resp Cum Sum over time')"
      ]
     },
     "execution_count": 115,
     "metadata": {},
     "output_type": "execute_result"
    },
    {
     "data": {
      "image/png": "[encoded data removed]",
      "text/plain": [
       "<Figure size 1440x720 with 1 Axes>"
      ]
     },
     "metadata": {},
     "output_type": "display_data"
    }
   ],
   "source": [
    "fig = plt.figure(figsize = (20,10))\n",
    "ax = fig.gca()\n",
    "\n",
    "plt.plot(new_df.index, new_df['resp'].cumsum(), color='skyblue')\n",
    "plt.plot(new_df.index, new_df['resp_1'].cumsum(), color='red')\n",
    "plt.plot(new_df.index, new_df['resp_2'].cumsum(), color='yellow')\n",
    "plt.plot(new_df.index, new_df['resp_3'].cumsum(), color='blue')\n",
    "plt.plot(new_df.index, new_df['resp_4'].cumsum(), color='green')\n",
    "plt.title('Resp Cum Sum over time')"
   ]
  },
  {
   "cell_type": "code",
   "execution_count": 12,
   "metadata": {},
   "outputs": [
    {
     "data": {
      "text/plain": [
       "3783.9778737650868"
      ]
     },
     "execution_count": 12,
     "metadata": {},
     "output_type": "execute_result"
    }
   ],
   "source": [
    "# sum of positive return\n",
    "sum(i for i in new_df['return'] if i>0)"
   ]
  },
  {
   "cell_type": "code",
   "execution_count": 117,
   "metadata": {},
   "outputs": [
    {
     "data": {
      "text/html": [
       "<div>\n",
       "<style scoped>\n",
       "    .dataframe tbody tr th:only-of-type {\n",
       "        vertical-align: middle;\n",
       "    }\n",
       "\n",
       "    .dataframe tbody tr th {\n",
       "        vertical-align: top;\n",
       "    }\n",
       "\n",
       "    .dataframe thead th {\n",
       "        text-align: right;\n",
       "    }\n",
       "</style>\n",
       "<table border=\"1\" class=\"dataframe\">\n",
       "  <thead>\n",
       "    <tr style=\"text-align: right;\">\n",
       "      <th></th>\n",
       "      <th>resp</th>\n",
       "      <th>return</th>\n",
       "    </tr>\n",
       "    <tr>\n",
       "      <th>date</th>\n",
       "      <th></th>\n",
       "      <th></th>\n",
       "    </tr>\n",
       "  </thead>\n",
       "  <tbody>\n",
       "    <tr>\n",
       "      <th>0.0</th>\n",
       "      <td>0.006468</td>\n",
       "      <td>0.009500</td>\n",
       "    </tr>\n",
       "    <tr>\n",
       "      <th>1.0</th>\n",
       "      <td>-0.006210</td>\n",
       "      <td>-0.001396</td>\n",
       "    </tr>\n",
       "    <tr>\n",
       "      <th>2.0</th>\n",
       "      <td>-0.000766</td>\n",
       "      <td>-0.000000</td>\n",
       "    </tr>\n",
       "    <tr>\n",
       "      <th>3.0</th>\n",
       "      <td>-0.004993</td>\n",
       "      <td>-0.001888</td>\n",
       "    </tr>\n",
       "    <tr>\n",
       "      <th>4.0</th>\n",
       "      <td>0.003411</td>\n",
       "      <td>0.000721</td>\n",
       "    </tr>\n",
       "    <tr>\n",
       "      <th>...</th>\n",
       "      <td>...</td>\n",
       "      <td>...</td>\n",
       "    </tr>\n",
       "    <tr>\n",
       "      <th>495.0</th>\n",
       "      <td>0.035562</td>\n",
       "      <td>0.000000</td>\n",
       "    </tr>\n",
       "    <tr>\n",
       "      <th>496.0</th>\n",
       "      <td>0.000168</td>\n",
       "      <td>0.000000</td>\n",
       "    </tr>\n",
       "    <tr>\n",
       "      <th>497.0</th>\n",
       "      <td>0.001784</td>\n",
       "      <td>0.000000</td>\n",
       "    </tr>\n",
       "    <tr>\n",
       "      <th>498.0</th>\n",
       "      <td>-0.011336</td>\n",
       "      <td>-0.000000</td>\n",
       "    </tr>\n",
       "    <tr>\n",
       "      <th>499.0</th>\n",
       "      <td>0.007146</td>\n",
       "      <td>0.000000</td>\n",
       "    </tr>\n",
       "  </tbody>\n",
       "</table>\n",
       "<p>500 rows × 2 columns</p>\n",
       "</div>"
      ],
      "text/plain": [
       "           resp    return\n",
       "date                     \n",
       "0.0    0.006468  0.009500\n",
       "1.0   -0.006210 -0.001396\n",
       "2.0   -0.000766 -0.000000\n",
       "3.0   -0.004993 -0.001888\n",
       "4.0    0.003411  0.000721\n",
       "...         ...       ...\n",
       "495.0  0.035562  0.000000\n",
       "496.0  0.000168  0.000000\n",
       "497.0  0.001784  0.000000\n",
       "498.0 -0.011336 -0.000000\n",
       "499.0  0.007146  0.000000\n",
       "\n",
       "[500 rows x 2 columns]"
      ]
     },
     "execution_count": 117,
     "metadata": {},
     "output_type": "execute_result"
    }
   ],
   "source": [
    "count_return = new_df.groupby('date')['resp','return']\n",
    "count_return.last()"
   ]
  },
  {
   "cell_type": "code",
   "execution_count": 118,
   "metadata": {},
   "outputs": [
    {
     "data": {
      "text/html": [
       "<div>\n",
       "<style scoped>\n",
       "    .dataframe tbody tr th:only-of-type {\n",
       "        vertical-align: middle;\n",
       "    }\n",
       "\n",
       "    .dataframe tbody tr th {\n",
       "        vertical-align: top;\n",
       "    }\n",
       "\n",
       "    .dataframe thead th {\n",
       "        text-align: right;\n",
       "    }\n",
       "</style>\n",
       "<table border=\"1\" class=\"dataframe\">\n",
       "  <thead>\n",
       "    <tr style=\"text-align: right;\">\n",
       "      <th></th>\n",
       "      <th>date</th>\n",
       "      <th>+num</th>\n",
       "      <th>-num</th>\n",
       "      <th>sum_po</th>\n",
       "      <th>sum_ne</th>\n",
       "      <th>total</th>\n",
       "    </tr>\n",
       "  </thead>\n",
       "  <tbody>\n",
       "    <tr>\n",
       "      <th>0</th>\n",
       "      <td>0</td>\n",
       "      <td>351</td>\n",
       "      <td>207</td>\n",
       "      <td>8.765516</td>\n",
       "      <td>-5.550185</td>\n",
       "      <td>3.215331</td>\n",
       "    </tr>\n",
       "    <tr>\n",
       "      <th>1</th>\n",
       "      <td>1</td>\n",
       "      <td>585</td>\n",
       "      <td>355</td>\n",
       "      <td>19.337713</td>\n",
       "      <td>-21.386115</td>\n",
       "      <td>-2.048402</td>\n",
       "    </tr>\n",
       "    <tr>\n",
       "      <th>2</th>\n",
       "      <td>2</td>\n",
       "      <td>23</td>\n",
       "      <td>0</td>\n",
       "      <td>0.000607</td>\n",
       "      <td>0.000000</td>\n",
       "      <td>0.000607</td>\n",
       "    </tr>\n",
       "    <tr>\n",
       "      <th>3</th>\n",
       "      <td>3</td>\n",
       "      <td>428</td>\n",
       "      <td>294</td>\n",
       "      <td>9.349219</td>\n",
       "      <td>-10.224736</td>\n",
       "      <td>-0.875517</td>\n",
       "    </tr>\n",
       "    <tr>\n",
       "      <th>4</th>\n",
       "      <td>4</td>\n",
       "      <td>682</td>\n",
       "      <td>349</td>\n",
       "      <td>17.149780</td>\n",
       "      <td>-12.525273</td>\n",
       "      <td>4.624507</td>\n",
       "    </tr>\n",
       "  </tbody>\n",
       "</table>\n",
       "</div>"
      ],
      "text/plain": [
       "   date  +num  -num     sum_po     sum_ne     total\n",
       "0     0   351   207   8.765516  -5.550185  3.215331\n",
       "1     1   585   355  19.337713 -21.386115 -2.048402\n",
       "2     2    23     0   0.000607   0.000000  0.000607\n",
       "3     3   428   294   9.349219 -10.224736 -0.875517\n",
       "4     4   682   349  17.149780 -12.525273  4.624507"
      ]
     },
     "execution_count": 118,
     "metadata": {},
     "output_type": "execute_result"
    }
   ],
   "source": [
    "# import matplotlib.pyplot as plt\n",
    " # %matplotlib inline\n",
    "import pandas as pd\n",
    "from pandas import DataFrame\n",
    "\n",
    "result = []\n",
    "\n",
    "for j in range(0,499):\n",
    "    date = j \n",
    "    num_po = len( list(i for i in new_df[new_df['date']==j ]['return'] if i>=0))\n",
    "    num_ne = len( list(i for i in new_df[new_df['date']==j ]['return'] if i<0))\n",
    "    sum_po = sum( list(i for i in new_df[new_df['date']==j ]['return'] if i>=0)) \n",
    "    sum_ne = sum( list(i for i in new_df[new_df['date']==j ]['return'] if i<0))\n",
    "    total = sum_po + sum_ne\n",
    "    \n",
    "    result.append([date, num_po, num_ne, sum_po, sum_ne, total])\n",
    "daily = pd.DataFrame(result, columns=['date', '+num','-num','sum_po','sum_ne', 'total'])\n",
    "daily.head()\n"
   ]
  },
  {
   "cell_type": "code",
   "execution_count": 119,
   "metadata": {},
   "outputs": [
    {
     "name": "stdout",
     "output_type": "stream",
     "text": [
      "(499, 6)\n"
     ]
    },
    {
     "data": {
      "text/html": [
       "<div>\n",
       "<style scoped>\n",
       "    .dataframe tbody tr th:only-of-type {\n",
       "        vertical-align: middle;\n",
       "    }\n",
       "\n",
       "    .dataframe tbody tr th {\n",
       "        vertical-align: top;\n",
       "    }\n",
       "\n",
       "    .dataframe thead th {\n",
       "        text-align: right;\n",
       "    }\n",
       "</style>\n",
       "<table border=\"1\" class=\"dataframe\">\n",
       "  <thead>\n",
       "    <tr style=\"text-align: right;\">\n",
       "      <th></th>\n",
       "      <th>date</th>\n",
       "      <th>+num</th>\n",
       "      <th>-num</th>\n",
       "      <th>sum_po</th>\n",
       "      <th>sum_ne</th>\n",
       "      <th>total</th>\n",
       "    </tr>\n",
       "  </thead>\n",
       "  <tbody>\n",
       "    <tr>\n",
       "      <th>date</th>\n",
       "      <td>1.000000</td>\n",
       "      <td>-0.091118</td>\n",
       "      <td>0.087508</td>\n",
       "      <td>-0.008845</td>\n",
       "      <td>-0.026574</td>\n",
       "      <td>-0.053393</td>\n",
       "    </tr>\n",
       "    <tr>\n",
       "      <th>+num</th>\n",
       "      <td>-0.091118</td>\n",
       "      <td>1.000000</td>\n",
       "      <td>0.921527</td>\n",
       "      <td>0.835807</td>\n",
       "      <td>-0.809297</td>\n",
       "      <td>-0.052886</td>\n",
       "    </tr>\n",
       "    <tr>\n",
       "      <th>-num</th>\n",
       "      <td>0.087508</td>\n",
       "      <td>0.921527</td>\n",
       "      <td>1.000000</td>\n",
       "      <td>0.818902</td>\n",
       "      <td>-0.839267</td>\n",
       "      <td>-0.122967</td>\n",
       "    </tr>\n",
       "    <tr>\n",
       "      <th>sum_po</th>\n",
       "      <td>-0.008845</td>\n",
       "      <td>0.835807</td>\n",
       "      <td>0.818902</td>\n",
       "      <td>1.000000</td>\n",
       "      <td>-0.774102</td>\n",
       "      <td>0.234876</td>\n",
       "    </tr>\n",
       "    <tr>\n",
       "      <th>sum_ne</th>\n",
       "      <td>-0.026574</td>\n",
       "      <td>-0.809297</td>\n",
       "      <td>-0.839267</td>\n",
       "      <td>-0.774102</td>\n",
       "      <td>1.000000</td>\n",
       "      <td>0.433533</td>\n",
       "    </tr>\n",
       "    <tr>\n",
       "      <th>total</th>\n",
       "      <td>-0.053393</td>\n",
       "      <td>-0.052886</td>\n",
       "      <td>-0.122967</td>\n",
       "      <td>0.234876</td>\n",
       "      <td>0.433533</td>\n",
       "      <td>1.000000</td>\n",
       "    </tr>\n",
       "  </tbody>\n",
       "</table>\n",
       "</div>"
      ],
      "text/plain": [
       "            date      +num      -num    sum_po    sum_ne     total\n",
       "date    1.000000 -0.091118  0.087508 -0.008845 -0.026574 -0.053393\n",
       "+num   -0.091118  1.000000  0.921527  0.835807 -0.809297 -0.052886\n",
       "-num    0.087508  0.921527  1.000000  0.818902 -0.839267 -0.122967\n",
       "sum_po -0.008845  0.835807  0.818902  1.000000 -0.774102  0.234876\n",
       "sum_ne -0.026574 -0.809297 -0.839267 -0.774102  1.000000  0.433533\n",
       "total  -0.053393 -0.052886 -0.122967  0.234876  0.433533  1.000000"
      ]
     },
     "execution_count": 119,
     "metadata": {},
     "output_type": "execute_result"
    }
   ],
   "source": [
    "print(daily.shape)\n",
    "daily.corr()"
   ]
  },
  {
   "cell_type": "code",
   "execution_count": 120,
   "metadata": {},
   "outputs": [
    {
     "data": {
      "image/png": "[encoded data removed]",
      "text/plain": [
       "<Figure size 1152x576 with 2 Axes>"
      ]
     },
     "metadata": {
      "needs_background": "light"
     },
     "output_type": "display_data"
    }
   ],
   "source": [
    "import matplotlib.pyplot as plt\n",
    "%matplotlib inline\n",
    "plt.subplots(figsize=(16,8))\n",
    "plt.subplot(211)\n",
    "plt.bar(daily['date'], daily['+num'], alpha=0.3)\n",
    "plt.bar(daily['date'], daily['-num'], alpha=0.3)\n",
    "plt.legend(('number of positive return(among total trades)','number of negative return(among total trades)'))\n",
    "plt.title('number of returns(resp*weight) per day')\n",
    "plt.xlabel('days(1-500)')\n",
    "plt.ylabel('number of trading returns a day')\n",
    "\n",
    "plt.subplot(212)\n",
    "plt.plot(daily['sum_po'], color='b', alpha=0.3)\n",
    "plt.plot(daily['sum_ne'], color='b', alpha=0.3)\n",
    "plt.plot(daily['total'], color='r', linewidth=1)\n",
    "plt.axhline(y=0.5, color='black', linestyle='-', alpha=0.5)\n",
    "plt.legend(('sum of positive return','sum of negative return', 'net return of a day'))\n",
    "plt.title('net return(resp*weight) per day')\n",
    "plt.xlabel('days(1-500)')\n",
    "plt.ylabel('sum of trading returns a day')\n",
    "\n",
    "plt.show()\n"
   ]
  },
  {
   "cell_type": "code",
   "execution_count": 121,
   "metadata": {},
   "outputs": [
    {
     "data": {
      "text/plain": [
       "<matplotlib.lines.Line2D at 0x1268842e0>"
      ]
     },
     "execution_count": 121,
     "metadata": {},
     "output_type": "execute_result"
    },
    {
     "data": {
      "image/png": "[encoded data removed]",
      "text/plain": [
       "<Figure size 1152x576 with 2 Axes>"
      ]
     },
     "metadata": {
      "needs_background": "light"
     },
     "output_type": "display_data"
    }
   ],
   "source": [
    "plt.subplots(figsize=(16,8))\n",
    "\n",
    "plt.subplot(211)\n",
    "plt.bar(daily['date'], daily['+num'], alpha=0.3)\n",
    "# plt.bar(daily['date'], daily['-num'], alpha=0.3)\n",
    "plt.legend(('number of positive return(among total trades)','number of negative return(among total trades)'))\n",
    "plt.title('number of returns(resp*weight) per day')\n",
    "\n",
    "daily_sorted = daily.sort_values('sum_po')\n",
    "daily_sorted.head()\n",
    "plt.subplot(212)\n",
    "plt.bar( range(0,499),'sum_po', data=daily_sorted)\n",
    "plt.title('positive return per day (sorted)')\n",
    "plt.xlabel('days(sorted)')\n",
    "plt.ylabel('positive return(weight*resp)')\n",
    "plt.axhline(y=np.mean(daily['sum_po']) , color='red', linestyle='-', alpha=0.3) # mean\n",
    "plt.axhline(y=np.median(daily['sum_po']) , color='black', linestyle='-', alpha=0.3) # median"
   ]
  },
  {
   "cell_type": "code",
   "execution_count": 122,
   "metadata": {},
   "outputs": [
    {
     "data": {
      "text/html": [
       "<div>\n",
       "<style scoped>\n",
       "    .dataframe tbody tr th:only-of-type {\n",
       "        vertical-align: middle;\n",
       "    }\n",
       "\n",
       "    .dataframe tbody tr th {\n",
       "        vertical-align: top;\n",
       "    }\n",
       "\n",
       "    .dataframe thead th {\n",
       "        text-align: right;\n",
       "    }\n",
       "</style>\n",
       "<table border=\"1\" class=\"dataframe\">\n",
       "  <thead>\n",
       "    <tr style=\"text-align: right;\">\n",
       "      <th></th>\n",
       "      <th>index</th>\n",
       "      <th>% sum of returns</th>\n",
       "    </tr>\n",
       "  </thead>\n",
       "  <tbody>\n",
       "    <tr>\n",
       "      <th>0</th>\n",
       "      <td>0</td>\n",
       "      <td>100.00</td>\n",
       "    </tr>\n",
       "    <tr>\n",
       "      <th>1</th>\n",
       "      <td>1</td>\n",
       "      <td>100.00</td>\n",
       "    </tr>\n",
       "    <tr>\n",
       "      <th>2</th>\n",
       "      <td>2</td>\n",
       "      <td>99.66</td>\n",
       "    </tr>\n",
       "    <tr>\n",
       "      <th>3</th>\n",
       "      <td>3</td>\n",
       "      <td>97.93</td>\n",
       "    </tr>\n",
       "    <tr>\n",
       "      <th>4</th>\n",
       "      <td>4</td>\n",
       "      <td>92.72</td>\n",
       "    </tr>\n",
       "  </tbody>\n",
       "</table>\n",
       "</div>"
      ],
      "text/plain": [
       "   index  % sum of returns\n",
       "0      0            100.00\n",
       "1      1            100.00\n",
       "2      2             99.66\n",
       "3      3             97.93\n",
       "4      4             92.72"
      ]
     },
     "execution_count": 122,
     "metadata": {},
     "output_type": "execute_result"
    }
   ],
   "source": [
    "# proportion of positive returns\n",
    "positive = []\n",
    "for i in range(0,499):\n",
    "    po_trade_num = i\n",
    "    d =round( len( daily[daily['+num']>i ] )  / len(daily['+num']) * 100 , 2)\n",
    "    positive.append([po_trade_num, d])\n",
    "positive_plot = pd.DataFrame(positive, columns=['posi_trade_num','%'])\n",
    "positive_plot.head()\n",
    "\n",
    "# total sum of positive returns\n",
    "sumsum = []\n",
    "for i in range(0,27,1):\n",
    "    index = i\n",
    "    d = round( sum(daily_sorted[daily_sorted['sum_po']>i]['sum_po']) / sum(daily_sorted[daily_sorted['sum_po']>0]['sum_po']) * 100 ,2)\n",
    "    sumsum.append([index, d])\n",
    "sumsum_plot = pd.DataFrame(sumsum, columns=['index','% sum of returns'])\n",
    "sumsum_plot.head()"
   ]
  },
  {
   "cell_type": "code",
   "execution_count": 123,
   "metadata": {},
   "outputs": [
    {
     "data": {
      "text/plain": [
       "<matplotlib.lines.Line2D at 0x1918ad3d0>"
      ]
     },
     "execution_count": 123,
     "metadata": {},
     "output_type": "execute_result"
    },
    {
     "data": {
      "image/png": "[encoded data removed]",
      "text/plain": [
       "<Figure size 1152x432 with 2 Axes>"
      ]
     },
     "metadata": {
      "needs_background": "light"
     },
     "output_type": "display_data"
    }
   ],
   "source": [
    "plt.subplots(figsize=(16,6))\n",
    "plt.subplot(121)\n",
    "plt.plot(positive_plot['posi_trade_num'], positive_plot['%'])\n",
    "plt.legend(('% of positive trading'))\n",
    "plt.xlabel('number of days (1~500)')\n",
    "plt.ylabel('percentage(%) of total days')\n",
    "plt.title('proportion of positive return days')\n",
    "\n",
    "plt.subplot(122)\n",
    "plt.plot(sumsum_plot['index'], sumsum_plot['% sum of returns'])\n",
    "plt.legend(('% sum of returns'))\n",
    "plt.xlabel('threshold of return(1~27)')\n",
    "plt.ylabel('percentage(%) of sum of positive returns')\n",
    "plt.title('proportion of sum of positive returns with different thresholds')\n",
    "plt.axvline(x=np.mean(daily['sum_po']) , color='red', linestyle='-', alpha=0.3) # mean\n",
    "plt.axvline(x=np.median(daily['sum_po']) , color='black', linestyle='-', alpha=0.3) # median"
   ]
  },
  {
   "cell_type": "code",
   "execution_count": 124,
   "metadata": {},
   "outputs": [
    {
     "data": {
      "text/plain": [
       "84.99"
      ]
     },
     "execution_count": 124,
     "metadata": {},
     "output_type": "execute_result"
    }
   ],
   "source": [
    "round( sum(daily_sorted[daily_sorted['sum_po']>5]['sum_po']) / sum(daily_sorted[daily_sorted['sum_po']>0]['sum_po']) * 100 ,2)"
   ]
  },
  {
   "cell_type": "code",
   "execution_count": 125,
   "metadata": {},
   "outputs": [
    {
     "ename": "SyntaxError",
     "evalue": "invalid syntax (<ipython-input-125-85c3b173c848>, line 3)",
     "output_type": "error",
     "traceback": [
      "\u001b[0;36m  File \u001b[0;32m\"<ipython-input-125-85c3b173c848>\"\u001b[0;36m, line \u001b[0;32m3\u001b[0m\n\u001b[0;31m    pi = sum(return*action)\u001b[0m\n\u001b[0m             ^\u001b[0m\n\u001b[0;31mSyntaxError\u001b[0m\u001b[0;31m:\u001b[0m invalid syntax\n"
     ]
    }
   ],
   "source": [
    "# Evaluation\n",
    "unique_date = None\n",
    "pi = sum(return*action)\n",
    "t = (sum(pi)/sqrt( sum(pi^2)) )*sqrt(250/unique_date)\n",
    "u = min(max(t,0),6 )*sum(pi)"
   ]
  },
  {
   "cell_type": "code",
   "execution_count": 25,
   "metadata": {},
   "outputs": [
    {
     "data": {
      "text/plain": [
       "248"
      ]
     },
     "execution_count": 25,
     "metadata": {},
     "output_type": "execute_result"
    }
   ],
   "source": [
    "len( list(i for i in new_df[new_df['date']==6]['return'] if i>0) )\n",
    "new_df['date'].nunique() # num of unique date\n",
    "len( new_df[new_df['date']==6]['return'].value_counts()>0)"
   ]
  },
  {
   "cell_type": "markdown",
   "metadata": {},
   "source": [
    "# Cluster Analysis \n",
    "\n",
    "Referencing from another notebook we chose a correlation-based distance and complete linkage to form more ideal clusters. We just wanted to group the features that acted in the same way and not focus too much on outlier variables. We chose hierarchical clustering instead of a DBSCAN just to get a general idea of what variables moved together. “Eyeballing” the dendrogram we made cuts to form clusters we saw fit. We also used an elbow method to optimize the number of clusters.\n",
    " \n",
    "After doing hierarchical clustering on the full dataset, we decided to remove the highly correlated variables based on a threshold to see how the clusters changed. Using the same methods as before we saw the clusters are now even more even. Then we assigned each feature to a cluster based on where we cut the dendrogram.\n",
    "\n"
   ]
  },
  {
   "cell_type": "code",
   "execution_count": 12,
   "metadata": {},
   "outputs": [
    {
     "name": "stderr",
     "output_type": "stream",
     "text": [
      "<ipython-input-12-a3763922a194>:7: ClusterWarning: scipy.cluster: The symmetric non-negative hollow observation matrix looks suspiciously like an uncondensed distance matrix\n",
      "  link = sch.linkage(dist,'complete')\n"
     ]
    }
   ],
   "source": [
    "# Paerson correlation coefficient\n",
    "corr_mat = df.corr(method='pearson')\n",
    "\n",
    "# Correlation-based distance\n",
    "dist = np.sqrt(0.5*(1-corr_mat))\n",
    "\n",
    "link = sch.linkage(dist,'complete')"
   ]
  },
  {
   "cell_type": "code",
   "execution_count": 13,
   "metadata": {},
   "outputs": [
    {
     "data": {
      "image/png": "[encoded data removed]",
      "text/plain": [
       "<Figure size 2160x720 with 1 Axes>"
      ]
     },
     "metadata": {
      "needs_background": "light"
     },
     "output_type": "display_data"
    }
   ],
   "source": [
    "\n",
    "# For Correlation drops \n",
    "fig = plt.figure(figsize=(30, 10))\n",
    "\n",
    "plt.title('Hierarchical Clustering Dendrogram for dropped variables')\n",
    "plt.xlabel('Feature')\n",
    "plt.ylabel('Distance')\n",
    "\n",
    "\n",
    "plt.hlines(1.8,0,1320)\n",
    "dn = sch.dendrogram(link,leaf_rotation=90.,leaf_font_size=11.)\n",
    "plt.show()\n",
    "\n",
    "# 4-9 Clusters seem pretty good because one half of the denogram takes up two clusters \n",
    "# They are also fuller at 4-9 clusters \n",
    "\n",
    "# Eyeballing I chose 9 \n",
    "\n",
    "# Variables are going to get grouped together on how they move. \n",
    "# For example variables that have an upwards trend will get groupped together \n",
    "# The ones that are stationary around the mean would get grouped together \n"
   ]
  },
  {
   "cell_type": "code",
   "execution_count": 128,
   "metadata": {},
   "outputs": [
    {
     "data": {
      "image/png": "[encoded data removed]",
      "text/plain": [
       "<Figure size 432x288 with 2 Axes>"
      ]
     },
     "metadata": {},
     "output_type": "display_data"
    },
    {
     "data": {
      "text/plain": [
       "<matplotlib.axes._subplots.AxesSubplot at 0x13319ef70>"
      ]
     },
     "execution_count": 128,
     "metadata": {},
     "output_type": "execute_result"
    }
   ],
   "source": [
    "# Elbow Method for K means\n",
    "# Import ElbowVisualizer\n",
    "from yellowbrick.cluster import KElbowVisualizer\n",
    "model = KMeans()\n",
    "# k is range of number of clusters.\n",
    "visualizer = KElbowVisualizer(model, k=(2,12), timings= True)\n",
    "visualizer.fit(new_df)        # Fit data to visualizer\n",
    "visualizer.show()\n",
    "\n",
    "# Elbow say 4 "
   ]
  },
  {
   "cell_type": "markdown",
   "metadata": {},
   "source": [
    "## 2-C : after clean the data, scaling"
   ]
  },
  {
   "cell_type": "code",
   "execution_count": 14,
   "metadata": {},
   "outputs": [
    {
     "name": "stdout",
     "output_type": "stream",
     "text": [
      "Removed Columns {'feature_12', 'feature_61', 'feature_69', 'feature_35', 'feature_110', 'feature_101', 'feature_128', 'feature_6', 'feature_26', 'feature_28', 'feature_122', 'feature_114', 'feature_127', 'feature_76', 'feature_124', 'feature_107', 'feature_116', 'feature_108', 'feature_4', 'feature_36', 'feature_38', 'feature_40', 'feature_58', 'feature_66', 'feature_68', 'feature_119', 'feature_18', 'feature_126', 'feature_63', 'feature_32', 'feature_24', 'feature_129', 'feature_25', 'feature_113'}\n"
     ]
    }
   ],
   "source": [
    "# Dropping features > .90 correlation \n",
    "# Also dropping resp, date, weight, and ts_id becuase we don't need them to fit a model \n",
    "new_df = remove_collinear_features(df.drop(['resp','resp_1','resp_2','resp_3','resp_4','ts_id','date','weight'], axis=1), .90\n"
   ]
  },
  {
   "cell_type": "code",
   "execution_count": 15,
   "metadata": {},
   "outputs": [
    {
     "name": "stderr",
     "output_type": "stream",
     "text": [
      "<ipython-input-15-e8b9d59cc65e>:7: ClusterWarning: scipy.cluster: The symmetric non-negative hollow observation matrix looks suspiciously like an uncondensed distance matrix\n",
      "  link = sch.linkage(dist,'complete')\n"
     ]
    }
   ],
   "source": [
    "# Paerson correlation coefficient\n",
    "corr_mat = new_df.corr(method='pearson')\n",
    "\n",
    "# Correlation-based distance\n",
    "dist = np.sqrt(0.5*(1-corr_mat))\n",
    "\n",
    "link = sch.linkage(dist,'complete')"
   ]
  },
  {
   "cell_type": "code",
   "execution_count": 16,
   "metadata": {},
   "outputs": [
    {
     "data": {
      "image/png": "[encoded data removed]",
      "text/plain": [
       "<Figure size 2160x720 with 1 Axes>"
      ]
     },
     "metadata": {
      "needs_background": "light"
     },
     "output_type": "display_data"
    }
   ],
   "source": [
    "# Clustering again to see what changed \n",
    "\n",
    "# Dropping highgly correlated variables makes more even clusters\n",
    "# Using complete linkage for more \"Full\" clusters \n",
    "\n",
    "# Eyeballing is around 6 \n",
    "\n",
    "# For Correlation drops \n",
    "fig = plt.figure(figsize=(30, 10))\n",
    "\n",
    "plt.title('Hierarchical Clustering Dendrogram for dropped variables')\n",
    "plt.xlabel('Feature')\n",
    "plt.ylabel('Distance')\n",
    "\n",
    "# where you want to cut the dengram \n",
    "plt.hlines(1.75,0,1320)\n",
    "dn = sch.dendrogram(link,leaf_rotation=90.,leaf_font_size=11.)\n",
    "plt.show()\n"
   ]
  },
  {
   "cell_type": "code",
   "execution_count": 33,
   "metadata": {},
   "outputs": [
    {
     "data": {
      "image/png": "[encoded data removed]",
      "text/plain": [
       "<Figure size 576x396 with 2 Axes>"
      ]
     },
     "metadata": {},
     "output_type": "display_data"
    },
    {
     "data": {
      "text/plain": [
       "<matplotlib.axes._subplots.AxesSubplot at 0x128c8d2b0>"
      ]
     },
     "execution_count": 33,
     "metadata": {},
     "output_type": "execute_result"
    }
   ],
   "source": [
    "\n",
    "# Import ElbowVisualizer\n",
    "from yellowbrick.cluster import KElbowVisualizer\n",
    "model = KMeans()\n",
    "# k is range of number of clusters.\n",
    "visualizer = KElbowVisualizer(model, k=(2,12), timings= True)\n",
    "visualizer.fit(new_df)        # Fit data to visualizer\n",
    "visualizer.show()\n",
    "\n",
    "# Elbow says 6"
   ]
  },
  {
   "cell_type": "code",
   "execution_count": 54,
   "metadata": {},
   "outputs": [],
   "source": [
    "max_d = 1.75\n",
    "clusters = fcluster(link,t=max_d, criterion='distance')"
   ]
  },
  {
   "cell_type": "code",
   "execution_count": 56,
   "metadata": {},
   "outputs": [
    {
     "data": {
      "text/html": [
       "<div>\n",
       "<style scoped>\n",
       "    .dataframe tbody tr th:only-of-type {\n",
       "        vertical-align: middle;\n",
       "    }\n",
       "\n",
       "    .dataframe tbody tr th {\n",
       "        vertical-align: top;\n",
       "    }\n",
       "\n",
       "    .dataframe thead th {\n",
       "        text-align: right;\n",
       "    }\n",
       "</style>\n",
       "<table border=\"1\" class=\"dataframe\">\n",
       "  <thead>\n",
       "    <tr style=\"text-align: right;\">\n",
       "      <th></th>\n",
       "      <th>Features</th>\n",
       "    </tr>\n",
       "    <tr>\n",
       "      <th>Cluster</th>\n",
       "      <th></th>\n",
       "    </tr>\n",
       "  </thead>\n",
       "  <tbody>\n",
       "    <tr>\n",
       "      <th>1</th>\n",
       "      <td>12</td>\n",
       "    </tr>\n",
       "    <tr>\n",
       "      <th>2</th>\n",
       "      <td>11</td>\n",
       "    </tr>\n",
       "    <tr>\n",
       "      <th>3</th>\n",
       "      <td>30</td>\n",
       "    </tr>\n",
       "    <tr>\n",
       "      <th>4</th>\n",
       "      <td>18</td>\n",
       "    </tr>\n",
       "    <tr>\n",
       "      <th>5</th>\n",
       "      <td>17</td>\n",
       "    </tr>\n",
       "    <tr>\n",
       "      <th>6</th>\n",
       "      <td>11</td>\n",
       "    </tr>\n",
       "  </tbody>\n",
       "</table>\n",
       "</div>"
      ],
      "text/plain": [
       "         Features\n",
       "Cluster          \n",
       "1              12\n",
       "2              11\n",
       "3              30\n",
       "4              18\n",
       "5              17\n",
       "6              11"
      ]
     },
     "execution_count": 56,
     "metadata": {},
     "output_type": "execute_result"
    }
   ],
   "source": [
    "df_clust = pd.DataFrame({'Cluster':clusters, 'Features':new_df.columns.values.astype('str')})\n",
    "\n",
    "df_clust.groupby('Cluster').count()"
   ]
  },
  {
   "cell_type": "code",
   "execution_count": 61,
   "metadata": {},
   "outputs": [],
   "source": [
    "clust_feat = {}\n",
    "for k in np.unique(clusters):\n",
    "    clust_feat[k] = df_clust[df_clust.Cluster == k].Features.values"
   ]
  },
  {
   "cell_type": "code",
   "execution_count": 62,
   "metadata": {},
   "outputs": [
    {
     "name": "stdout",
     "output_type": "stream",
     "text": [
      "Cluster_1 -> ['feature_0' 'feature_17' 'feature_19' 'feature_20' 'feature_21'\n",
      " 'feature_22' 'feature_23' 'feature_37' 'feature_97' 'feature_100'\n",
      " 'feature_103' 'feature_106']\n",
      "Cluster_2 -> ['feature_44' 'feature_84' 'feature_89' 'feature_96' 'feature_98'\n",
      " 'feature_99' 'feature_109' 'feature_111' 'feature_112' 'feature_115'\n",
      " 'feature_118']\n",
      "Cluster_3 -> ['feature_1' 'feature_2' 'feature_3' 'feature_5' 'feature_7' 'feature_8'\n",
      " 'feature_9' 'feature_10' 'feature_11' 'feature_12' 'feature_13'\n",
      " 'feature_14' 'feature_15' 'feature_16' 'feature_42' 'feature_43'\n",
      " 'feature_46' 'feature_47' 'feature_48' 'feature_49' 'feature_50'\n",
      " 'feature_53' 'feature_60' 'feature_62' 'feature_64' 'feature_65'\n",
      " 'feature_67' 'feature_70' 'feature_71' 'feature_120']\n",
      "Cluster_4 -> ['feature_27' 'feature_29' 'feature_30' 'feature_31' 'feature_33'\n",
      " 'feature_34' 'feature_39' 'feature_73' 'feature_74' 'feature_75'\n",
      " 'feature_79' 'feature_80' 'feature_81' 'feature_82' 'feature_85'\n",
      " 'feature_88' 'feature_91' 'feature_94']\n",
      "Cluster_5 -> ['feature_41' 'feature_51' 'feature_52' 'feature_54' 'feature_55'\n",
      " 'feature_56' 'feature_57' 'feature_59' 'feature_72' 'feature_77'\n",
      " 'feature_78' 'feature_83' 'feature_121' 'feature_123' 'feature_125'\n",
      " 'return' 'action']\n",
      "Cluster_6 -> ['feature_45' 'feature_86' 'feature_87' 'feature_90' 'feature_92'\n",
      " 'feature_93' 'feature_95' 'feature_102' 'feature_104' 'feature_105'\n",
      " 'feature_117']\n"
     ]
    }
   ],
   "source": [
    "# Clusters of feautures \n",
    "for k in np.unique(clusters):\n",
    "    print('Cluster_{}'.format(k,2),'->', df_clust[df_clust.Cluster == k].Features.values)"
   ]
  },
  {
   "cell_type": "code",
   "execution_count": 20,
   "metadata": {},
   "outputs": [],
   "source": [
    "# Resetting for the seq\n",
    "# Dont reset on scalled data \n",
    "new_df = new_df.reset_index()\n",
    "\n",
    "del new_df['index']"
   ]
  },
  {
   "cell_type": "markdown",
   "metadata": {},
   "source": [
    "# Fitting the model:\n",
    "\n",
    "We split the data into a train/test and scaled the x inputs. Since this is a large data set with many features, we thought it would be good to reduce the number of variables based on some criteria and fit a model. We choose an 85 percent threshold for components used.\n"
   ]
  },
  {
   "cell_type": "code",
   "execution_count": 18,
   "metadata": {},
   "outputs": [],
   "source": [
    "\n",
    "y = new_df['action']\n",
    "\n",
    "\n",
    "train_ratio = 0.75\n",
    "test_ratio = 0.25\n",
    "\n",
    "x_train, x_test, y_train, y_test = train_test_split(new_df, y, test_size = 1 - train_ratio)"
   ]
  },
  {
   "cell_type": "code",
   "execution_count": 19,
   "metadata": {},
   "outputs": [],
   "source": [
    "# Scaling before throwing it in you our ML models\n",
    "\n",
    "from sklearn.preprocessing import StandardScaler \n",
    "\n",
    "scaler = StandardScaler()\n",
    "\n",
    "scaler.fit(x_train)\n",
    "\n",
    "training_x = scaler.transform(x_train)\n",
    "testing_x = scaler.transform(x_test)\n"
   ]
  },
  {
   "cell_type": "code",
   "execution_count": 20,
   "metadata": {},
   "outputs": [
    {
     "data": {
      "text/plain": [
       "2390491"
      ]
     },
     "execution_count": 20,
     "metadata": {},
     "output_type": "execute_result"
    }
   ],
   "source": [
    "len(new_df)\n",
    "# len(scaledX)\n"
   ]
  },
  {
   "cell_type": "markdown",
   "metadata": {},
   "source": [
    "# 3. Dimensional reduction / reduce the dimension with 95% variance"
   ]
  },
  {
   "cell_type": "code",
   "execution_count": 21,
   "metadata": {},
   "outputs": [],
   "source": [
    "from sklearn.decomposition import PCA\n",
    "\n",
    "# Moving it down to .85\n",
    "pca = PCA(.85)\n",
    "\n",
    "# fix\n",
    "PCA_df = pca.fit(training_x)\n",
    "\n",
    "\n",
    " # find an optimal number of component, n\n",
    "# pca.fix(only_features)\n",
    "# cumsum = np.cumsum(pca.explained_variance_ratio_)\n",
    "# d = np.argmax(cumsum>= 0.95)+1"
   ]
  },
  {
   "cell_type": "markdown",
   "metadata": {},
   "source": [
    "# 4. Predict the 'action' with logistic regression (comparison between origianl data and PCA data)\n",
    "\n",
    "\n",
    "We wanted to fit a simpler model first just to see what the error would look like. We didn’t choose a logistic regression because of the issue of scalability when running on new data.\n"
   ]
  },
  {
   "cell_type": "code",
   "execution_count": 22,
   "metadata": {},
   "outputs": [
    {
     "name": "stdout",
     "output_type": "stream",
     "text": [
      "              precision    recall  f1-score   support\n",
      "\n",
      "         0.0       1.00      1.00      1.00    296459\n",
      "         1.0       1.00      1.00      1.00    301164\n",
      "\n",
      "    accuracy                           1.00    597623\n",
      "   macro avg       1.00      1.00      1.00    597623\n",
      "weighted avg       1.00      1.00      1.00    597623\n",
      "\n"
     ]
    }
   ],
   "source": [
    "from sklearn.model_selection import train_test_split\n",
    "from sklearn.linear_model import LogisticRegression\n",
    "from sklearn.metrics import classification_report\n",
    "\n",
    "# Tradional Log Res \n",
    "\n",
    "\n",
    "logmodel = LogisticRegression(solver = 'lbfgs')\n",
    "\n",
    "# Fitting log reg to traininig data \n",
    "\n",
    "logmodel.fit(training_x, y_train.astype('int'))\n",
    "\n",
    "\n",
    "# Predicitng response on testing data \n",
    "\n",
    "predictions = logmodel.predict(testing_x)\n",
    "\n",
    "print(classification_report(y_test,predictions))"
   ]
  },
  {
   "cell_type": "code",
   "execution_count": 23,
   "metadata": {},
   "outputs": [
    {
     "data": {
      "text/plain": [
       "1.0"
      ]
     },
     "execution_count": 23,
     "metadata": {},
     "output_type": "execute_result"
    }
   ],
   "source": [
    "# Training Score \n",
    "\n",
    "logmodel.score(training_x, y_train.astype('int'))\n"
   ]
  },
  {
   "cell_type": "code",
   "execution_count": 24,
   "metadata": {},
   "outputs": [
    {
     "data": {
      "text/plain": [
       "1.0"
      ]
     },
     "execution_count": 24,
     "metadata": {},
     "output_type": "execute_result"
    }
   ],
   "source": [
    "# Testing Score\n",
    "\n",
    "logmodel.score(testing_x, y_test.astype('int'))"
   ]
  },
  {
   "cell_type": "code",
   "execution_count": 25,
   "metadata": {},
   "outputs": [
    {
     "name": "stdout",
     "output_type": "stream",
     "text": [
      "[[296459      0]\n",
      " [     0 301164]]\n",
      "              precision    recall  f1-score   support\n",
      "\n",
      "         0.0       1.00      1.00      1.00    296459\n",
      "         1.0       1.00      1.00      1.00    301164\n",
      "\n",
      "    accuracy                           1.00    597623\n",
      "   macro avg       1.00      1.00      1.00    597623\n",
      "weighted avg       1.00      1.00      1.00    597623\n",
      "\n"
     ]
    }
   ],
   "source": [
    "# Confusion matrix Really accuarate but is it robust?\n",
    "\n",
    "print(confusion_matrix(y_test, predictions))\n",
    "print(classification_report(y_test, predictions))"
   ]
  },
  {
   "cell_type": "markdown",
   "metadata": {},
   "source": [
    "# Clustering Logistic Regression:\n",
    "\n",
    "With cluster analysis we saw that an ideal number of clusters to form are around 6 to 9. This gave us a good idea of how many clusters to fit partitioning k-means clusters then during a logistic regression.\n"
   ]
  },
  {
   "cell_type": "code",
   "execution_count": 28,
   "metadata": {},
   "outputs": [],
   "source": [
    "\n",
    "# Clustered Log Res\n",
    "\n",
    "# Clustering and Log Regs\n",
    "clk = ClassifierAfterKMeans(e_solver='lbfgs')\n",
    "\n",
    "\n",
    "clk.fit(x_train, y_train)\n",
    "\n",
    "\n",
    "y_pred_clust = clk.predict(x_test)"
   ]
  },
  {
   "cell_type": "code",
   "execution_count": 29,
   "metadata": {},
   "outputs": [
    {
     "data": {
      "text/plain": [
       "0.5998272042336636"
      ]
     },
     "execution_count": 29,
     "metadata": {},
     "output_type": "execute_result"
    }
   ],
   "source": [
    "# Not good with clustering\n",
    "clk.score(x_train, y_train)"
   ]
  },
  {
   "cell_type": "code",
   "execution_count": 30,
   "metadata": {},
   "outputs": [
    {
     "name": "stdout",
     "output_type": "stream",
     "text": [
      "[[187593 108866]\n",
      " [130705 170459]]\n",
      "              precision    recall  f1-score   support\n",
      "\n",
      "         0.0       0.59      0.63      0.61    296459\n",
      "         1.0       0.61      0.57      0.59    301164\n",
      "\n",
      "    accuracy                           0.60    597623\n",
      "   macro avg       0.60      0.60      0.60    597623\n",
      "weighted avg       0.60      0.60      0.60    597623\n",
      "\n"
     ]
    }
   ],
   "source": [
    "# Clustering and Log Regs\n",
    "\n",
    "# Not as good. \n",
    "print(confusion_matrix(y_test, y_pred_clust))\n",
    "print(classification_report(y_test, y_pred_clust))"
   ]
  },
  {
   "cell_type": "code",
   "execution_count": 31,
   "metadata": {},
   "outputs": [
    {
     "name": "stderr",
     "output_type": "stream",
     "text": [
      "/Users/adrianharris/PycharmProjects/untitled5/venv/lib/python3.8/site-packages/sklearn/linear_model/_logistic.py:938: ConvergenceWarning: lbfgs failed to converge (status=1):\n",
      "STOP: TOTAL NO. of ITERATIONS REACHED LIMIT.\n",
      "\n",
      "Increase the number of iterations (max_iter) or scale the data as shown in:\n",
      "    https://scikit-learn.org/stable/modules/preprocessing.html\n",
      "Please also refer to the documentation for alternative solver options:\n",
      "    https://scikit-learn.org/stable/modules/linear_model.html#logistic-regression\n",
      "  n_iter_i = _check_optimize_result(\n",
      "/Users/adrianharris/PycharmProjects/untitled5/venv/lib/python3.8/site-packages/sklearn/linear_model/_logistic.py:938: ConvergenceWarning: lbfgs failed to converge (status=1):\n",
      "STOP: TOTAL NO. of ITERATIONS REACHED LIMIT.\n",
      "\n",
      "Increase the number of iterations (max_iter) or scale the data as shown in:\n",
      "    https://scikit-learn.org/stable/modules/preprocessing.html\n",
      "Please also refer to the documentation for alternative solver options:\n",
      "    https://scikit-learn.org/stable/modules/linear_model.html#logistic-regression\n",
      "  n_iter_i = _check_optimize_result(\n",
      "/Users/adrianharris/PycharmProjects/untitled5/venv/lib/python3.8/site-packages/sklearn/linear_model/_logistic.py:938: ConvergenceWarning: lbfgs failed to converge (status=1):\n",
      "STOP: TOTAL NO. of ITERATIONS REACHED LIMIT.\n",
      "\n",
      "Increase the number of iterations (max_iter) or scale the data as shown in:\n",
      "    https://scikit-learn.org/stable/modules/preprocessing.html\n",
      "Please also refer to the documentation for alternative solver options:\n",
      "    https://scikit-learn.org/stable/modules/linear_model.html#logistic-regression\n",
      "  n_iter_i = _check_optimize_result(\n",
      "/Users/adrianharris/PycharmProjects/untitled5/venv/lib/python3.8/site-packages/sklearn/linear_model/_logistic.py:938: ConvergenceWarning: lbfgs failed to converge (status=1):\n",
      "STOP: TOTAL NO. of ITERATIONS REACHED LIMIT.\n",
      "\n",
      "Increase the number of iterations (max_iter) or scale the data as shown in:\n",
      "    https://scikit-learn.org/stable/modules/preprocessing.html\n",
      "Please also refer to the documentation for alternative solver options:\n",
      "    https://scikit-learn.org/stable/modules/linear_model.html#logistic-regression\n",
      "  n_iter_i = _check_optimize_result(\n",
      "/Users/adrianharris/PycharmProjects/untitled5/venv/lib/python3.8/site-packages/sklearn/linear_model/_logistic.py:938: ConvergenceWarning: lbfgs failed to converge (status=1):\n",
      "STOP: TOTAL NO. of ITERATIONS REACHED LIMIT.\n",
      "\n",
      "Increase the number of iterations (max_iter) or scale the data as shown in:\n",
      "    https://scikit-learn.org/stable/modules/preprocessing.html\n",
      "Please also refer to the documentation for alternative solver options:\n",
      "    https://scikit-learn.org/stable/modules/linear_model.html#logistic-regression\n",
      "  n_iter_i = _check_optimize_result(\n",
      "/Users/adrianharris/PycharmProjects/untitled5/venv/lib/python3.8/site-packages/sklearn/linear_model/_logistic.py:938: ConvergenceWarning: lbfgs failed to converge (status=1):\n",
      "STOP: TOTAL NO. of ITERATIONS REACHED LIMIT.\n",
      "\n",
      "Increase the number of iterations (max_iter) or scale the data as shown in:\n",
      "    https://scikit-learn.org/stable/modules/preprocessing.html\n",
      "Please also refer to the documentation for alternative solver options:\n",
      "    https://scikit-learn.org/stable/modules/linear_model.html#logistic-regression\n",
      "  n_iter_i = _check_optimize_result(\n",
      "/Users/adrianharris/PycharmProjects/untitled5/venv/lib/python3.8/site-packages/sklearn/linear_model/_logistic.py:938: ConvergenceWarning: lbfgs failed to converge (status=1):\n",
      "STOP: TOTAL NO. of ITERATIONS REACHED LIMIT.\n",
      "\n",
      "Increase the number of iterations (max_iter) or scale the data as shown in:\n",
      "    https://scikit-learn.org/stable/modules/preprocessing.html\n",
      "Please also refer to the documentation for alternative solver options:\n",
      "    https://scikit-learn.org/stable/modules/linear_model.html#logistic-regression\n",
      "  n_iter_i = _check_optimize_result(\n"
     ]
    }
   ],
   "source": [
    "# Seeing what number of clusters to use \n",
    "\n",
    "dt = []\n",
    "\n",
    "for cl in range(2, 12):\n",
    "    clk = ClassifierAfterKMeans(c_n_clusters=cl, e_solver='lbfgs', e_max_iter=1000)\n",
    "    clk.fit(x_train, y_train)\n",
    "    sc = clk.score(x_train, y_train)\n",
    "    dt.append(dict(score=sc, nb_clusters=cl))\n",
    "    "
   ]
  },
  {
   "cell_type": "code",
   "execution_count": 32,
   "metadata": {},
   "outputs": [
    {
     "data": {
      "text/html": [
       "<div>\n",
       "<style scoped>\n",
       "    .dataframe tbody tr th:only-of-type {\n",
       "        vertical-align: middle;\n",
       "    }\n",
       "\n",
       "    .dataframe tbody tr th {\n",
       "        vertical-align: top;\n",
       "    }\n",
       "\n",
       "    .dataframe thead th {\n",
       "        text-align: right;\n",
       "    }\n",
       "</style>\n",
       "<table border=\"1\" class=\"dataframe\">\n",
       "  <thead>\n",
       "    <tr style=\"text-align: right;\">\n",
       "      <th></th>\n",
       "      <th>score</th>\n",
       "      <th>nb_clusters</th>\n",
       "    </tr>\n",
       "  </thead>\n",
       "  <tbody>\n",
       "    <tr>\n",
       "      <th>0</th>\n",
       "      <td>0.599827</td>\n",
       "      <td>2</td>\n",
       "    </tr>\n",
       "    <tr>\n",
       "      <th>1</th>\n",
       "      <td>0.562958</td>\n",
       "      <td>3</td>\n",
       "    </tr>\n",
       "    <tr>\n",
       "      <th>2</th>\n",
       "      <td>0.583218</td>\n",
       "      <td>4</td>\n",
       "    </tr>\n",
       "    <tr>\n",
       "      <th>3</th>\n",
       "      <td>0.745719</td>\n",
       "      <td>5</td>\n",
       "    </tr>\n",
       "    <tr>\n",
       "      <th>4</th>\n",
       "      <td>0.706408</td>\n",
       "      <td>6</td>\n",
       "    </tr>\n",
       "    <tr>\n",
       "      <th>5</th>\n",
       "      <td>0.752726</td>\n",
       "      <td>7</td>\n",
       "    </tr>\n",
       "    <tr>\n",
       "      <th>6</th>\n",
       "      <td>0.764372</td>\n",
       "      <td>8</td>\n",
       "    </tr>\n",
       "    <tr>\n",
       "      <th>7</th>\n",
       "      <td>0.762270</td>\n",
       "      <td>9</td>\n",
       "    </tr>\n",
       "    <tr>\n",
       "      <th>8</th>\n",
       "      <td>0.737297</td>\n",
       "      <td>10</td>\n",
       "    </tr>\n",
       "    <tr>\n",
       "      <th>9</th>\n",
       "      <td>0.768361</td>\n",
       "      <td>11</td>\n",
       "    </tr>\n",
       "  </tbody>\n",
       "</table>\n",
       "</div>"
      ],
      "text/plain": [
       "      score  nb_clusters\n",
       "0  0.599827            2\n",
       "1  0.562958            3\n",
       "2  0.583218            4\n",
       "3  0.745719            5\n",
       "4  0.706408            6\n",
       "5  0.752726            7\n",
       "6  0.764372            8\n",
       "7  0.762270            9\n",
       "8  0.737297           10\n",
       "9  0.768361           11"
      ]
     },
     "execution_count": 32,
     "metadata": {},
     "output_type": "execute_result"
    }
   ],
   "source": [
    "# Best score is at 7:9 clusters on training but still not good\n",
    "pd.DataFrame(dt)"
   ]
  },
  {
   "cell_type": "code",
   "execution_count": 94,
   "metadata": {},
   "outputs": [
    {
     "name": "stderr",
     "output_type": "stream",
     "text": [
      "/Users/adrianharris/PycharmProjects/untitled5/venv/lib/python3.8/site-packages/sklearn/linear_model/_logistic.py:938: ConvergenceWarning: lbfgs failed to converge (status=1):\n",
      "STOP: TOTAL NO. of ITERATIONS REACHED LIMIT.\n",
      "\n",
      "Increase the number of iterations (max_iter) or scale the data as shown in:\n",
      "    https://scikit-learn.org/stable/modules/preprocessing.html\n",
      "Please also refer to the documentation for alternative solver options:\n",
      "    https://scikit-learn.org/stable/modules/linear_model.html#logistic-regression\n",
      "  n_iter_i = _check_optimize_result(\n"
     ]
    }
   ],
   "source": [
    "clk = ClassifierAfterKMeans(c_n_clusters=7, e_solver='lbfgs', e_max_iter=700)\n",
    "clk.fit(x_train, y_train)\n",
    "\n",
    "y_pred_clust = clk.predict(x_test)"
   ]
  },
  {
   "cell_type": "code",
   "execution_count": 95,
   "metadata": {},
   "outputs": [
    {
     "data": {
      "text/plain": [
       "0.7031670069051683"
      ]
     },
     "execution_count": 95,
     "metadata": {},
     "output_type": "execute_result"
    }
   ],
   "source": [
    "clk.score(x_train, y_train)"
   ]
  },
  {
   "cell_type": "code",
   "execution_count": 96,
   "metadata": {},
   "outputs": [
    {
     "name": "stdout",
     "output_type": "stream",
     "text": [
      "[[20217  9606]\n",
      " [ 8278 21661]]\n",
      "              precision    recall  f1-score   support\n",
      "\n",
      "         0.0       0.71      0.68      0.69     29823\n",
      "         1.0       0.69      0.72      0.71     29939\n",
      "\n",
      "    accuracy                           0.70     59762\n",
      "   macro avg       0.70      0.70      0.70     59762\n",
      "weighted avg       0.70      0.70      0.70     59762\n",
      "\n"
     ]
    }
   ],
   "source": [
    "print(confusion_matrix(y_test, y_pred_clust))\n",
    "print(classification_report(y_test, y_pred_clust))"
   ]
  },
  {
   "cell_type": "markdown",
   "metadata": {},
   "source": [
    "# 7. Neural Network\n",
    "\n",
    "We chose to use the same dimension methods in our neural network. Using PCA we used the components that explained 95 of variation in the data. We had to scale and transform the data in an array to pass through the network. Since some of these features take on somewhat of a normal distribution using gelu activation in some layers is something that we thought would be interesting to implement.\n",
    "\n",
    "\n"
   ]
  },
  {
   "cell_type": "markdown",
   "metadata": {},
   "source": [
    "                                  **Update see final network**\n",
    "\n",
    "Realized later on the all this model was doing was passing scaled data through the network \n",
    "not actually breaking it down to the components "
   ]
  },
  {
   "cell_type": "code",
   "execution_count": 37,
   "metadata": {},
   "outputs": [],
   "source": [
    "y = new_df['action']\n",
    "\n",
    "\n",
    "train_ratio = 0.75\n",
    "test_ratio = 0.25\n",
    "\n",
    "x_train, x_test, y_train, y_test = train_test_split(new_df, y, test_size = 1 - train_ratio)"
   ]
  },
  {
   "cell_type": "code",
   "execution_count": 53,
   "metadata": {},
   "outputs": [
    {
     "ename": "KeyboardInterrupt",
     "evalue": "",
     "output_type": "error",
     "traceback": [
      "\u001b[0;31m---------------------------------------------------------------------------\u001b[0m",
      "\u001b[0;31mKeyboardInterrupt\u001b[0m                         Traceback (most recent call last)",
      "\u001b[0;32m<ipython-input-53-35dc03377e8c>\u001b[0m in \u001b[0;36m<module>\u001b[0;34m\u001b[0m\n\u001b[0;32m----> 1\u001b[0;31m \u001b[0mnn_x_train\u001b[0m \u001b[0;34m=\u001b[0m \u001b[0mnp\u001b[0m\u001b[0;34m.\u001b[0m\u001b[0marray\u001b[0m\u001b[0;34m(\u001b[0m\u001b[0mx_train\u001b[0m\u001b[0;34m)\u001b[0m\u001b[0;34m\u001b[0m\u001b[0;34m\u001b[0m\u001b[0m\n\u001b[0m\u001b[1;32m      2\u001b[0m \u001b[0mnn_x_test\u001b[0m \u001b[0;34m=\u001b[0m \u001b[0mnp\u001b[0m\u001b[0;34m.\u001b[0m\u001b[0marray\u001b[0m\u001b[0;34m(\u001b[0m\u001b[0mx_test\u001b[0m\u001b[0;34m)\u001b[0m\u001b[0;34m\u001b[0m\u001b[0;34m\u001b[0m\u001b[0m\n\u001b[1;32m      3\u001b[0m \u001b[0;34m\u001b[0m\u001b[0m\n\u001b[1;32m      4\u001b[0m \u001b[0mnn_y_train\u001b[0m \u001b[0;34m=\u001b[0m \u001b[0mnp\u001b[0m\u001b[0;34m.\u001b[0m\u001b[0marray\u001b[0m\u001b[0;34m(\u001b[0m\u001b[0my_train\u001b[0m\u001b[0;34m)\u001b[0m\u001b[0;34m\u001b[0m\u001b[0;34m\u001b[0m\u001b[0m\n\u001b[1;32m      5\u001b[0m \u001b[0mnn_y_test\u001b[0m \u001b[0;34m=\u001b[0m \u001b[0mnp\u001b[0m\u001b[0;34m.\u001b[0m\u001b[0marray\u001b[0m\u001b[0;34m(\u001b[0m\u001b[0my_test\u001b[0m\u001b[0;34m)\u001b[0m\u001b[0;34m\u001b[0m\u001b[0;34m\u001b[0m\u001b[0m\n",
      "\u001b[0;32m~/PycharmProjects/untitled5/venv/lib/python3.8/site-packages/pandas/core/generic.py\u001b[0m in \u001b[0;36m__array__\u001b[0;34m(self, dtype)\u001b[0m\n\u001b[1;32m   1993\u001b[0m \u001b[0;34m\u001b[0m\u001b[0m\n\u001b[1;32m   1994\u001b[0m     \u001b[0;32mdef\u001b[0m \u001b[0m__array__\u001b[0m\u001b[0;34m(\u001b[0m\u001b[0mself\u001b[0m\u001b[0;34m,\u001b[0m \u001b[0mdtype\u001b[0m\u001b[0;34m=\u001b[0m\u001b[0;32mNone\u001b[0m\u001b[0;34m)\u001b[0m\u001b[0;34m:\u001b[0m\u001b[0;34m\u001b[0m\u001b[0;34m\u001b[0m\u001b[0m\n\u001b[0;32m-> 1995\u001b[0;31m         \u001b[0;32mreturn\u001b[0m \u001b[0mcom\u001b[0m\u001b[0;34m.\u001b[0m\u001b[0mvalues_from_object\u001b[0m\u001b[0;34m(\u001b[0m\u001b[0mself\u001b[0m\u001b[0;34m)\u001b[0m\u001b[0;34m\u001b[0m\u001b[0;34m\u001b[0m\u001b[0m\n\u001b[0m\u001b[1;32m   1996\u001b[0m \u001b[0;34m\u001b[0m\u001b[0m\n\u001b[1;32m   1997\u001b[0m     \u001b[0;32mdef\u001b[0m \u001b[0m__array_wrap__\u001b[0m\u001b[0;34m(\u001b[0m\u001b[0mself\u001b[0m\u001b[0;34m,\u001b[0m \u001b[0mresult\u001b[0m\u001b[0;34m,\u001b[0m \u001b[0mcontext\u001b[0m\u001b[0;34m=\u001b[0m\u001b[0;32mNone\u001b[0m\u001b[0;34m)\u001b[0m\u001b[0;34m:\u001b[0m\u001b[0;34m\u001b[0m\u001b[0;34m\u001b[0m\u001b[0m\n",
      "\u001b[0;32mpandas/_libs/lib.pyx\u001b[0m in \u001b[0;36mpandas._libs.lib.values_from_object\u001b[0;34m()\u001b[0m\n",
      "\u001b[0;32m~/PycharmProjects/untitled5/venv/lib/python3.8/site-packages/pandas/core/generic.py\u001b[0m in \u001b[0;36mvalues\u001b[0;34m(self)\u001b[0m\n\u001b[1;32m   5441\u001b[0m         \"\"\"\n\u001b[1;32m   5442\u001b[0m         \u001b[0mself\u001b[0m\u001b[0;34m.\u001b[0m\u001b[0m_consolidate_inplace\u001b[0m\u001b[0;34m(\u001b[0m\u001b[0;34m)\u001b[0m\u001b[0;34m\u001b[0m\u001b[0;34m\u001b[0m\u001b[0m\n\u001b[0;32m-> 5443\u001b[0;31m         \u001b[0;32mreturn\u001b[0m \u001b[0mself\u001b[0m\u001b[0;34m.\u001b[0m\u001b[0m_data\u001b[0m\u001b[0;34m.\u001b[0m\u001b[0mas_array\u001b[0m\u001b[0;34m(\u001b[0m\u001b[0mtranspose\u001b[0m\u001b[0;34m=\u001b[0m\u001b[0mself\u001b[0m\u001b[0;34m.\u001b[0m\u001b[0m_AXIS_REVERSED\u001b[0m\u001b[0;34m)\u001b[0m\u001b[0;34m\u001b[0m\u001b[0;34m\u001b[0m\u001b[0m\n\u001b[0m\u001b[1;32m   5444\u001b[0m \u001b[0;34m\u001b[0m\u001b[0m\n\u001b[1;32m   5445\u001b[0m     \u001b[0;34m@\u001b[0m\u001b[0mproperty\u001b[0m\u001b[0;34m\u001b[0m\u001b[0;34m\u001b[0m\u001b[0m\n",
      "\u001b[0;32m~/PycharmProjects/untitled5/venv/lib/python3.8/site-packages/pandas/core/internals/managers.py\u001b[0m in \u001b[0;36mas_array\u001b[0;34m(self, transpose, items)\u001b[0m\n\u001b[1;32m    820\u001b[0m             \u001b[0marr\u001b[0m \u001b[0;34m=\u001b[0m \u001b[0mnp\u001b[0m\u001b[0;34m.\u001b[0m\u001b[0masarray\u001b[0m\u001b[0;34m(\u001b[0m\u001b[0mmgr\u001b[0m\u001b[0;34m.\u001b[0m\u001b[0mblocks\u001b[0m\u001b[0;34m[\u001b[0m\u001b[0;36m0\u001b[0m\u001b[0;34m]\u001b[0m\u001b[0;34m.\u001b[0m\u001b[0mget_values\u001b[0m\u001b[0;34m(\u001b[0m\u001b[0;34m)\u001b[0m\u001b[0;34m)\u001b[0m\u001b[0;34m\u001b[0m\u001b[0;34m\u001b[0m\u001b[0m\n\u001b[1;32m    821\u001b[0m         \u001b[0;32melse\u001b[0m\u001b[0;34m:\u001b[0m\u001b[0;34m\u001b[0m\u001b[0;34m\u001b[0m\u001b[0m\n\u001b[0;32m--> 822\u001b[0;31m             \u001b[0marr\u001b[0m \u001b[0;34m=\u001b[0m \u001b[0mmgr\u001b[0m\u001b[0;34m.\u001b[0m\u001b[0m_interleave\u001b[0m\u001b[0;34m(\u001b[0m\u001b[0;34m)\u001b[0m\u001b[0;34m\u001b[0m\u001b[0;34m\u001b[0m\u001b[0m\n\u001b[0m\u001b[1;32m    823\u001b[0m \u001b[0;34m\u001b[0m\u001b[0m\n\u001b[1;32m    824\u001b[0m         \u001b[0;32mreturn\u001b[0m \u001b[0marr\u001b[0m\u001b[0;34m.\u001b[0m\u001b[0mtranspose\u001b[0m\u001b[0;34m(\u001b[0m\u001b[0;34m)\u001b[0m \u001b[0;32mif\u001b[0m \u001b[0mtranspose\u001b[0m \u001b[0;32melse\u001b[0m \u001b[0marr\u001b[0m\u001b[0;34m\u001b[0m\u001b[0;34m\u001b[0m\u001b[0m\n",
      "\u001b[0;32m~/PycharmProjects/untitled5/venv/lib/python3.8/site-packages/pandas/core/internals/managers.py\u001b[0m in \u001b[0;36m_interleave\u001b[0;34m(self)\u001b[0m\n\u001b[1;32m    844\u001b[0m         \u001b[0;32mfor\u001b[0m \u001b[0mblk\u001b[0m \u001b[0;32min\u001b[0m \u001b[0mself\u001b[0m\u001b[0;34m.\u001b[0m\u001b[0mblocks\u001b[0m\u001b[0;34m:\u001b[0m\u001b[0;34m\u001b[0m\u001b[0;34m\u001b[0m\u001b[0m\n\u001b[1;32m    845\u001b[0m             \u001b[0mrl\u001b[0m \u001b[0;34m=\u001b[0m \u001b[0mblk\u001b[0m\u001b[0;34m.\u001b[0m\u001b[0mmgr_locs\u001b[0m\u001b[0;34m\u001b[0m\u001b[0;34m\u001b[0m\u001b[0m\n\u001b[0;32m--> 846\u001b[0;31m             \u001b[0mresult\u001b[0m\u001b[0;34m[\u001b[0m\u001b[0mrl\u001b[0m\u001b[0;34m.\u001b[0m\u001b[0mindexer\u001b[0m\u001b[0;34m]\u001b[0m \u001b[0;34m=\u001b[0m \u001b[0mblk\u001b[0m\u001b[0;34m.\u001b[0m\u001b[0mget_values\u001b[0m\u001b[0;34m(\u001b[0m\u001b[0mdtype\u001b[0m\u001b[0;34m)\u001b[0m\u001b[0;34m\u001b[0m\u001b[0;34m\u001b[0m\u001b[0m\n\u001b[0m\u001b[1;32m    847\u001b[0m             \u001b[0mitemmask\u001b[0m\u001b[0;34m[\u001b[0m\u001b[0mrl\u001b[0m\u001b[0;34m.\u001b[0m\u001b[0mindexer\u001b[0m\u001b[0;34m]\u001b[0m \u001b[0;34m=\u001b[0m \u001b[0;36m1\u001b[0m\u001b[0;34m\u001b[0m\u001b[0;34m\u001b[0m\u001b[0m\n\u001b[1;32m    848\u001b[0m \u001b[0;34m\u001b[0m\u001b[0m\n",
      "\u001b[0;31mKeyboardInterrupt\u001b[0m: "
     ]
    }
   ],
   "source": [
    "nn_x_train = np.array(x_train)\n",
    "nn_x_test = np.array(x_test)\n",
    "\n",
    "nn_y_train = np.array(y_train)\n",
    "nn_y_test = np.array(y_test)"
   ]
  },
  {
   "cell_type": "code",
   "execution_count": 40,
   "metadata": {},
   "outputs": [],
   "source": [
    "\n",
    "from sklearn.preprocessing import StandardScaler \n",
    "\n",
    "scaler = StandardScaler()\n",
    "\n",
    "scaler.fit(nn_x_train)\n",
    "scaler.fit(nn_x_test)\n",
    "\n",
    "from sklearn.decomposition import PCA\n",
    "\n",
    "pca = PCA(.95)\n",
    "\n",
    "PCA_df = pca.fit(nn_x_train)\n"
   ]
  },
  {
   "cell_type": "code",
   "execution_count": 41,
   "metadata": {},
   "outputs": [],
   "source": [
    "from tensorflow.keras import Sequential\n",
    "from tensorflow.keras.layers import Conv2D, Flatten, Dense, Dropout\n"
   ]
  },
  {
   "cell_type": "code",
   "execution_count": 43,
   "metadata": {},
   "outputs": [],
   "source": [
    "import tensorflow as tf\n",
    "from tensorflow.keras import layers\n",
    "from keras.layers.core import Activation\n",
    "from tensorflow.keras import activations\n",
    "from keras.utils.generic_utils import get_custom_objects\n",
    "\n",
    "def gelu(x):\n",
    "    cdf = 0.5 * (1.0 + tf.math.erf(x / tf.sqrt(2.0)))\n",
    "    return x * cdf\n",
    "get_custom_objects().update({'gelu': Activation(gelu)})"
   ]
  },
  {
   "cell_type": "code",
   "execution_count": 44,
   "metadata": {},
   "outputs": [],
   "source": [
    "model = Sequential()\n",
    "model.add(Dense(20, input_dim = len(nn_x_train[0,:]), activation = 'relu')) \n",
    "model.add(Dense(10, activation =  'gelu' ))\n",
    "model.add(Dense(10, activation =  'gelu' ))\n",
    "model.add(Dropout(0.2))\n",
    "model.add(Dense(8, activation =  'relu'))\n",
    "model.add(Dense(1, activation = 'sigmoid'))"
   ]
  },
  {
   "cell_type": "code",
   "execution_count": 45,
   "metadata": {},
   "outputs": [
    {
     "name": "stdout",
     "output_type": "stream",
     "text": [
      "Model: \"sequential\"\n",
      "_________________________________________________________________\n",
      "Layer (type)                 Output Shape              Param #   \n",
      "=================================================================\n",
      "dense (Dense)                (None, 20)                1980      \n",
      "_________________________________________________________________\n",
      "dense_1 (Dense)              (None, 10)                210       \n",
      "_________________________________________________________________\n",
      "dense_2 (Dense)              (None, 10)                110       \n",
      "_________________________________________________________________\n",
      "dropout (Dropout)            (None, 10)                0         \n",
      "_________________________________________________________________\n",
      "dense_3 (Dense)              (None, 8)                 88        \n",
      "_________________________________________________________________\n",
      "dense_4 (Dense)              (None, 1)                 9         \n",
      "=================================================================\n",
      "Total params: 2,397\n",
      "Trainable params: 2,397\n",
      "Non-trainable params: 0\n",
      "_________________________________________________________________\n"
     ]
    }
   ],
   "source": [
    "model.summary()"
   ]
  },
  {
   "cell_type": "code",
   "execution_count": 46,
   "metadata": {},
   "outputs": [],
   "source": [
    "\n",
    "model.compile(loss = \"binary_crossentropy\", optimizer = 'adam', metrics = ['accuracy'])"
   ]
  },
  {
   "cell_type": "code",
   "execution_count": 47,
   "metadata": {},
   "outputs": [
    {
     "name": "stdout",
     "output_type": "stream",
     "text": [
      "Epoch 1/100\n",
      "44822/44822 [==============================] - 40s 888us/step - loss: 0.0707 - accuracy: 0.9593 - val_loss: 5.2032e-04 - val_accuracy: 0.9999\n",
      "Epoch 2/100\n",
      "44822/44822 [==============================] - 40s 898us/step - loss: 0.0012 - accuracy: 0.9997 - val_loss: 1.3634e-04 - val_accuracy: 1.0000\n",
      "Epoch 3/100\n",
      "44822/44822 [==============================] - 43s 967us/step - loss: 0.0010 - accuracy: 0.9997 - val_loss: 1.2255e-04 - val_accuracy: 1.0000\n",
      "Epoch 4/100\n",
      "44822/44822 [==============================] - 39s 864us/step - loss: 8.2750e-04 - accuracy: 0.9997 - val_loss: 0.0013 - val_accuracy: 0.9997\n",
      "Epoch 5/100\n",
      "44822/44822 [==============================] - 42s 938us/step - loss: 8.3849e-04 - accuracy: 0.9998 - val_loss: 9.8496e-04 - val_accuracy: 0.9998\n",
      "Epoch 6/100\n",
      "44822/44822 [==============================] - 43s 966us/step - loss: 0.0012 - accuracy: 0.9997 - val_loss: 2.8295e-04 - val_accuracy: 0.9999\n",
      "Epoch 7/100\n",
      "44822/44822 [==============================] - 36s 810us/step - loss: 0.0015 - accuracy: 0.9997 - val_loss: 1.8311e-04 - val_accuracy: 1.0000\n",
      "Epoch 8/100\n",
      "44822/44822 [==============================] - 41s 926us/step - loss: 9.8566e-04 - accuracy: 0.9998 - val_loss: 0.0033 - val_accuracy: 0.9994\n",
      "Epoch 9/100\n",
      "44822/44822 [==============================] - 40s 896us/step - loss: 9.7787e-04 - accuracy: 0.9998 - val_loss: 0.0141 - val_accuracy: 0.9971\n",
      "Epoch 10/100\n",
      "44822/44822 [==============================] - 40s 892us/step - loss: 0.0011 - accuracy: 0.9998 - val_loss: 2.6813e-04 - val_accuracy: 1.0000\n",
      "Epoch 11/100\n",
      "44822/44822 [==============================] - 41s 914us/step - loss: 9.3369e-04 - accuracy: 0.9998 - val_loss: 3.2507e-04 - val_accuracy: 0.9999\n",
      "Epoch 12/100\n",
      "44822/44822 [==============================] - 41s 919us/step - loss: 6.6667e-04 - accuracy: 0.9999 - val_loss: 7.5388e-04 - val_accuracy: 1.0000\n",
      "Epoch 13/100\n",
      "44822/44822 [==============================] - 41s 910us/step - loss: 4.1276e-04 - accuracy: 0.9999 - val_loss: 0.0145 - val_accuracy: 0.9992\n",
      "Epoch 14/100\n",
      "44822/44822 [==============================] - 42s 938us/step - loss: 0.0016 - accuracy: 0.9998 - val_loss: 4.0246e-05 - val_accuracy: 1.0000\n",
      "Epoch 15/100\n",
      "44822/44822 [==============================] - 41s 911us/step - loss: 4.5840e-04 - accuracy: 0.9999 - val_loss: 0.0022 - val_accuracy: 0.9999\n",
      "Epoch 16/100\n",
      "44822/44822 [==============================] - 42s 946us/step - loss: 0.0010 - accuracy: 0.9999 - val_loss: 0.0059 - val_accuracy: 0.9998\n",
      "Epoch 17/100\n",
      "44822/44822 [==============================] - 42s 936us/step - loss: 0.0018 - accuracy: 0.9998 - val_loss: 6.1692e-05 - val_accuracy: 1.0000\n",
      "Epoch 18/100\n",
      "44822/44822 [==============================] - 41s 922us/step - loss: 7.6841e-04 - accuracy: 0.9999 - val_loss: 1.2080e-04 - val_accuracy: 1.0000\n",
      "Epoch 19/100\n",
      "44822/44822 [==============================] - 42s 941us/step - loss: 0.0011 - accuracy: 0.9999 - val_loss: 8.8918e-05 - val_accuracy: 1.0000\n",
      "Epoch 20/100\n",
      "44822/44822 [==============================] - 43s 956us/step - loss: 0.0012 - accuracy: 0.9999 - val_loss: 1.5139e-04 - val_accuracy: 1.0000\n",
      "Epoch 21/100\n",
      "44822/44822 [==============================] - 44s 980us/step - loss: 5.6213e-04 - accuracy: 0.9999 - val_loss: 1.8904e-04 - val_accuracy: 0.9999\n",
      "Epoch 22/100\n",
      "44822/44822 [==============================] - 51s 1ms/step - loss: 9.2096e-04 - accuracy: 0.9999 - val_loss: 1.3463e-05 - val_accuracy: 1.0000\n",
      "Epoch 23/100\n",
      "44822/44822 [==============================] - 40s 885us/step - loss: 0.0017 - accuracy: 0.9999 - val_loss: 0.0013 - val_accuracy: 0.9999\n",
      "Epoch 24/100\n",
      "44822/44822 [==============================] - 41s 923us/step - loss: 7.9801e-04 - accuracy: 0.9999 - val_loss: 7.7932e-04 - val_accuracy: 0.9999\n",
      "Epoch 25/100\n",
      "44822/44822 [==============================] - 41s 904us/step - loss: 0.0012 - accuracy: 0.9999 - val_loss: 0.0012 - val_accuracy: 1.0000\n",
      "Epoch 26/100\n",
      "44822/44822 [==============================] - 43s 958us/step - loss: 7.5400e-04 - accuracy: 0.9999 - val_loss: 0.0012 - val_accuracy: 0.9999\n",
      "Epoch 27/100\n",
      "44822/44822 [==============================] - 41s 924us/step - loss: 0.0010 - accuracy: 0.9999 - val_loss: 0.0036 - val_accuracy: 0.9999\n",
      "Epoch 28/100\n",
      "44822/44822 [==============================] - 41s 926us/step - loss: 0.0015 - accuracy: 0.9999 - val_loss: 4.0225e-05 - val_accuracy: 1.0000\n",
      "Epoch 29/100\n",
      "44822/44822 [==============================] - 45s 1ms/step - loss: 9.8185e-04 - accuracy: 0.9999 - val_loss: 4.1111e-04 - val_accuracy: 0.9999\n",
      "Epoch 30/100\n",
      "44822/44822 [==============================] - 47s 1ms/step - loss: 9.3046e-04 - accuracy: 0.9999 - val_loss: 6.8481e-05 - val_accuracy: 1.0000\n",
      "Epoch 31/100\n",
      "44822/44822 [==============================] - 46s 1ms/step - loss: 0.0038 - accuracy: 0.9999 - val_loss: 8.3297e-04 - val_accuracy: 0.9998\n",
      "Epoch 32/100\n",
      "44822/44822 [==============================] - 41s 917us/step - loss: 8.3454e-04 - accuracy: 0.9999 - val_loss: 0.0057 - val_accuracy: 1.0000\n",
      "Epoch 33/100\n",
      "44822/44822 [==============================] - 42s 929us/step - loss: 0.0022 - accuracy: 0.9999 - val_loss: 2.7347e-04 - val_accuracy: 0.9999\n",
      "Epoch 34/100\n",
      "44822/44822 [==============================] - 42s 927us/step - loss: 8.8606e-04 - accuracy: 1.0000 - val_loss: 6.6530e-04 - val_accuracy: 0.9998\n",
      "Epoch 35/100\n",
      "44822/44822 [==============================] - 44s 978us/step - loss: 0.0015 - accuracy: 0.9999 - val_loss: 4.6484e-04 - val_accuracy: 1.0000\n",
      "Epoch 36/100\n",
      "44822/44822 [==============================] - 43s 970us/step - loss: 0.0010 - accuracy: 0.9999 - val_loss: 0.0034 - val_accuracy: 1.0000\n",
      "Epoch 37/100\n",
      "44822/44822 [==============================] - 41s 924us/step - loss: 0.0021 - accuracy: 0.9999 - val_loss: 1.1552e-04 - val_accuracy: 1.0000\n",
      "Epoch 38/100\n",
      "44822/44822 [==============================] - 41s 926us/step - loss: 9.8034e-04 - accuracy: 0.9999 - val_loss: 0.0183 - val_accuracy: 1.0000\n",
      "Epoch 39/100\n",
      "44822/44822 [==============================] - 42s 926us/step - loss: 0.0021 - accuracy: 0.9999 - val_loss: 0.0027 - val_accuracy: 1.0000\n",
      "Epoch 40/100\n",
      "44822/44822 [==============================] - 42s 945us/step - loss: 0.0015 - accuracy: 0.9999 - val_loss: 3.7198e-04 - val_accuracy: 1.0000\n",
      "Epoch 41/100\n",
      "44822/44822 [==============================] - 42s 936us/step - loss: 0.0018 - accuracy: 0.9999 - val_loss: 2.5179e-04 - val_accuracy: 0.9999\n",
      "Epoch 42/100\n",
      "44822/44822 [==============================] - 42s 939us/step - loss: 0.0018 - accuracy: 0.9999 - val_loss: 1.0207e-04 - val_accuracy: 1.0000\n",
      "Epoch 43/100\n",
      "44822/44822 [==============================] - 43s 954us/step - loss: 0.0014 - accuracy: 0.9999 - val_loss: 0.0074 - val_accuracy: 0.9999\n",
      "Epoch 44/100\n",
      "44822/44822 [==============================] - 42s 945us/step - loss: 0.0023 - accuracy: 0.9999 - val_loss: 0.0062 - val_accuracy: 1.0000\n",
      "Epoch 45/100\n",
      "44822/44822 [==============================] - 43s 951us/step - loss: 0.0011 - accuracy: 0.9999 - val_loss: 4.9700e-05 - val_accuracy: 1.0000\n",
      "Epoch 46/100\n",
      "44822/44822 [==============================] - 42s 946us/step - loss: 0.0016 - accuracy: 0.9999 - val_loss: 0.0236 - val_accuracy: 1.0000\n",
      "Epoch 47/100\n",
      "44822/44822 [==============================] - 42s 940us/step - loss: 0.0038 - accuracy: 0.9999 - val_loss: 3.6661e-04 - val_accuracy: 1.0000\n",
      "Epoch 48/100\n",
      "44822/44822 [==============================] - 43s 958us/step - loss: 6.2621e-04 - accuracy: 0.9999 - val_loss: 5.9980e-04 - val_accuracy: 1.0000\n",
      "Epoch 49/100\n",
      "44822/44822 [==============================] - 42s 944us/step - loss: 0.0038 - accuracy: 1.0000 - val_loss: 0.0029 - val_accuracy: 1.0000\n",
      "Epoch 50/100\n",
      "44822/44822 [==============================] - 43s 961us/step - loss: 0.0074 - accuracy: 0.9999 - val_loss: 0.0021 - val_accuracy: 1.0000\n",
      "Epoch 51/100\n",
      "44822/44822 [==============================] - 42s 942us/step - loss: 6.3569e-04 - accuracy: 0.9999 - val_loss: 0.0029 - val_accuracy: 1.0000\n",
      "Epoch 52/100\n",
      "44822/44822 [==============================] - 43s 950us/step - loss: 0.0028 - accuracy: 0.9999 - val_loss: 0.0066 - val_accuracy: 1.0000\n",
      "Epoch 53/100\n",
      "44822/44822 [==============================] - 45s 1ms/step - loss: 0.0024 - accuracy: 0.9999 - val_loss: 2.5017e-05 - val_accuracy: 1.0000\n",
      "Epoch 54/100\n",
      "44822/44822 [==============================] - 42s 946us/step - loss: 0.0020 - accuracy: 1.0000 - val_loss: 0.0026 - val_accuracy: 1.0000\n",
      "Epoch 55/100\n",
      "44822/44822 [==============================] - 43s 949us/step - loss: 0.0011 - accuracy: 1.0000 - val_loss: 6.1032e-06 - val_accuracy: 1.0000\n",
      "Epoch 56/100\n",
      "44822/44822 [==============================] - 43s 957us/step - loss: 0.0011 - accuracy: 0.9999 - val_loss: 0.0103 - val_accuracy: 1.0000\n",
      "Epoch 57/100\n",
      "44822/44822 [==============================] - 43s 958us/step - loss: 0.0014 - accuracy: 0.9999 - val_loss: 1.7379e-04 - val_accuracy: 1.0000\n",
      "Epoch 58/100\n",
      "44822/44822 [==============================] - 43s 959us/step - loss: 0.0017 - accuracy: 0.9999 - val_loss: 0.0139 - val_accuracy: 0.9999\n",
      "Epoch 59/100\n",
      "44822/44822 [==============================] - 43s 953us/step - loss: 0.0014 - accuracy: 1.0000 - val_loss: 0.0022 - val_accuracy: 1.0000\n",
      "Epoch 60/100\n",
      "44822/44822 [==============================] - 43s 960us/step - loss: 0.0019 - accuracy: 1.0000 - val_loss: 0.0070 - val_accuracy: 1.0000\n",
      "Epoch 61/100\n",
      "44822/44822 [==============================] - 42s 948us/step - loss: 7.7050e-04 - accuracy: 1.0000 - val_loss: 0.0069 - val_accuracy: 1.0000\n",
      "Epoch 62/100\n",
      "44822/44822 [==============================] - 43s 959us/step - loss: 0.0016 - accuracy: 1.0000 - val_loss: 0.0366 - val_accuracy: 0.9999\n",
      "Epoch 63/100\n",
      "44822/44822 [==============================] - 43s 949us/step - loss: 0.0025 - accuracy: 0.9999 - val_loss: 4.9928e-04 - val_accuracy: 1.0000\n",
      "Epoch 64/100\n",
      "44822/44822 [==============================] - 43s 966us/step - loss: 7.8168e-04 - accuracy: 1.0000 - val_loss: 2.5849e-05 - val_accuracy: 1.0000\n",
      "Epoch 65/100\n",
      "44822/44822 [==============================] - 43s 949us/step - loss: 0.0015 - accuracy: 1.0000 - val_loss: 0.0053 - val_accuracy: 1.0000\n",
      "Epoch 66/100\n",
      "44822/44822 [==============================] - 43s 955us/step - loss: 0.0013 - accuracy: 0.9999 - val_loss: 0.0047 - val_accuracy: 1.0000\n",
      "Epoch 67/100\n",
      "44822/44822 [==============================] - 43s 954us/step - loss: 0.0016 - accuracy: 0.9999 - val_loss: 4.6082e-05 - val_accuracy: 1.0000\n",
      "Epoch 68/100\n",
      "44822/44822 [==============================] - 43s 955us/step - loss: 0.0014 - accuracy: 0.9999 - val_loss: 4.3976e-04 - val_accuracy: 1.0000\n",
      "Epoch 69/100\n",
      "44822/44822 [==============================] - 42s 948us/step - loss: 8.7345e-04 - accuracy: 0.9999 - val_loss: 0.0033 - val_accuracy: 1.0000\n",
      "Epoch 70/100\n",
      "44822/44822 [==============================] - 43s 966us/step - loss: 0.0011 - accuracy: 1.0000 - val_loss: 3.1295e-04 - val_accuracy: 0.9999\n",
      "Epoch 71/100\n",
      "44822/44822 [==============================] - 43s 970us/step - loss: 4.0458e-04 - accuracy: 0.9999 - val_loss: 2.1277e-04 - val_accuracy: 1.0000\n",
      "Epoch 72/100\n",
      "44822/44822 [==============================] - 43s 950us/step - loss: 0.0028 - accuracy: 0.9999 - val_loss: 1.1768e-04 - val_accuracy: 1.0000\n",
      "Epoch 73/100\n",
      "44822/44822 [==============================] - 43s 963us/step - loss: 7.2899e-04 - accuracy: 1.0000 - val_loss: 5.2518e-04 - val_accuracy: 1.0000\n",
      "Epoch 74/100\n",
      "44822/44822 [==============================] - 43s 952us/step - loss: 8.8699e-04 - accuracy: 1.0000 - val_loss: 5.6589e-04 - val_accuracy: 1.0000\n",
      "Epoch 75/100\n",
      "44822/44822 [==============================] - 41s 918us/step - loss: 0.0020 - accuracy: 0.9999 - val_loss: 8.8202e-05 - val_accuracy: 1.0000\n",
      "Epoch 76/100\n",
      "44822/44822 [==============================] - 42s 937us/step - loss: 0.0010 - accuracy: 0.9999 - val_loss: 0.0020 - val_accuracy: 1.0000\n",
      "Epoch 77/100\n",
      "44822/44822 [==============================] - 47s 1ms/step - loss: 0.0020 - accuracy: 1.0000 - val_loss: 5.2149e-05 - val_accuracy: 1.0000\n",
      "Epoch 78/100\n",
      "44822/44822 [==============================] - 42s 946us/step - loss: 5.7535e-04 - accuracy: 1.0000 - val_loss: 8.4789e-05 - val_accuracy: 1.0000\n",
      "Epoch 79/100\n",
      "44822/44822 [==============================] - 42s 931us/step - loss: 0.0010 - accuracy: 1.0000 - val_loss: 0.0016 - val_accuracy: 1.0000\n",
      "Epoch 80/100\n",
      "44822/44822 [==============================] - 42s 936us/step - loss: 7.6533e-04 - accuracy: 1.0000 - val_loss: 0.0012 - val_accuracy: 1.0000\n",
      "Epoch 81/100\n",
      "44822/44822 [==============================] - 36s 801us/step - loss: 0.0015 - accuracy: 1.0000 - val_loss: 1.1798e-04 - val_accuracy: 1.0000\n",
      "Epoch 82/100\n",
      "44822/44822 [==============================] - 41s 918us/step - loss: 0.0027 - accuracy: 1.0000 - val_loss: 6.7173e-04 - val_accuracy: 1.0000\n",
      "Epoch 83/100\n",
      "44822/44822 [==============================] - 42s 943us/step - loss: 2.0462e-04 - accuracy: 1.0000 - val_loss: 0.0163 - val_accuracy: 1.0000\n",
      "Epoch 84/100\n",
      "44822/44822 [==============================] - 41s 908us/step - loss: 0.0024 - accuracy: 1.0000 - val_loss: 7.4619e-05 - val_accuracy: 1.0000\n",
      "Epoch 85/100\n",
      "44822/44822 [==============================] - 35s 777us/step - loss: 9.4627e-04 - accuracy: 1.0000 - val_loss: 1.0824e-04 - val_accuracy: 1.0000\n",
      "Epoch 86/100\n",
      "44822/44822 [==============================] - 35s 782us/step - loss: 0.0010 - accuracy: 0.9999 - val_loss: 8.1426e-04 - val_accuracy: 0.9998\n",
      "Epoch 87/100\n",
      "44822/44822 [==============================] - 35s 776us/step - loss: 3.8430e-04 - accuracy: 1.0000 - val_loss: 0.0063 - val_accuracy: 1.0000\n",
      "Epoch 88/100\n",
      "44822/44822 [==============================] - 38s 838us/step - loss: 0.0018 - accuracy: 1.0000 - val_loss: 0.0016 - val_accuracy: 1.0000\n",
      "Epoch 89/100\n",
      "44822/44822 [==============================] - 35s 773us/step - loss: 0.0013 - accuracy: 1.0000 - val_loss: 2.2150e-05 - val_accuracy: 1.0000\n",
      "Epoch 90/100\n",
      "44822/44822 [==============================] - 35s 775us/step - loss: 8.3344e-04 - accuracy: 1.0000 - val_loss: 0.0012 - val_accuracy: 1.0000\n",
      "Epoch 91/100\n",
      "44822/44822 [==============================] - 36s 803us/step - loss: 5.2158e-04 - accuracy: 0.9999 - val_loss: 3.6505e-05 - val_accuracy: 1.0000\n",
      "Epoch 92/100\n",
      "44822/44822 [==============================] - 42s 939us/step - loss: 0.0017 - accuracy: 1.0000 - val_loss: 1.0335e-05 - val_accuracy: 1.0000\n",
      "Epoch 93/100\n",
      "44822/44822 [==============================] - 42s 931us/step - loss: 0.0015 - accuracy: 1.0000 - val_loss: 0.0015 - val_accuracy: 1.0000\n",
      "Epoch 94/100\n",
      "44822/44822 [==============================] - 43s 950us/step - loss: 0.0027 - accuracy: 0.9999 - val_loss: 1.5285e-04 - val_accuracy: 1.0000\n",
      "Epoch 95/100\n",
      "44822/44822 [==============================] - 43s 951us/step - loss: 2.6292e-04 - accuracy: 1.0000 - val_loss: 4.1971e-05 - val_accuracy: 1.0000\n",
      "Epoch 96/100\n",
      "44822/44822 [==============================] - 43s 961us/step - loss: 0.0024 - accuracy: 1.0000 - val_loss: 5.1005e-04 - val_accuracy: 1.0000\n",
      "Epoch 97/100\n",
      "44822/44822 [==============================] - 43s 956us/step - loss: 6.4488e-04 - accuracy: 0.9999 - val_loss: 3.2180e-04 - val_accuracy: 0.9999\n",
      "Epoch 98/100\n",
      "44822/44822 [==============================] - 42s 944us/step - loss: 0.0016 - accuracy: 1.0000 - val_loss: 2.8919e-05 - val_accuracy: 1.0000\n",
      "Epoch 99/100\n",
      "44822/44822 [==============================] - 42s 935us/step - loss: 4.4019e-04 - accuracy: 1.0000 - val_loss: 5.4282e-04 - val_accuracy: 1.0000\n",
      "Epoch 100/100\n",
      "44822/44822 [==============================] - 43s 958us/step - loss: 8.5712e-04 - accuracy: 1.0000 - val_loss: 5.8406e-05 - val_accuracy: 1.0000\n"
     ]
    }
   ],
   "source": [
    "history = model.fit(x = nn_x_train, y = nn_y_train, validation_split=0.2, epochs = 100, verbose = 1)"
   ]
  },
  {
   "cell_type": "code",
   "execution_count": null,
   "metadata": {},
   "outputs": [],
   "source": [
    "# Training loss \n",
    "\n",
    "plt.plot(history.history['loss'], label = 'loss')\n",
    "plt.plot(history.history['val_loss'], label = 'val_loss')\n",
    "plt.legend();"
   ]
  },
  {
   "cell_type": "code",
   "execution_count": 49,
   "metadata": {},
   "outputs": [],
   "source": [
    "nn_pred = model.predict(nn_x_test)"
   ]
  },
  {
   "cell_type": "code",
   "execution_count": 50,
   "metadata": {},
   "outputs": [
    {
     "name": "stdout",
     "output_type": "stream",
     "text": [
      "[[296058      1]\n",
      " [    17 301547]]\n",
      "              precision    recall  f1-score   support\n",
      "\n",
      "         0.0       1.00      1.00      1.00    296059\n",
      "         1.0       1.00      1.00      1.00    301564\n",
      "\n",
      "    accuracy                           1.00    597623\n",
      "   macro avg       1.00      1.00      1.00    597623\n",
      "weighted avg       1.00      1.00      1.00    597623\n",
      "\n"
     ]
    }
   ],
   "source": [
    "print(confusion_matrix(nn_y_test, nn_pred.round()))"
   ]
  },
  {
   "cell_type": "code",
   "execution_count": null,
   "metadata": {},
   "outputs": [],
   "source": [
    "print(classification_report(nn_y_test, nn_pred.round()))"
   ]
  },
  {
   "cell_type": "code",
   "execution_count": 51,
   "metadata": {},
   "outputs": [
    {
     "data": {
      "text/plain": [
       "0.9999698806772832"
      ]
     },
     "execution_count": 51,
     "metadata": {},
     "output_type": "execute_result"
    }
   ],
   "source": [
    "accuracy_score(nn_y_test, nn_pred.round())"
   ]
  },
  {
   "cell_type": "markdown",
   "metadata": {},
   "source": [
    "# Discussion:\n",
    "\n",
    "You could see that all models have high accuracy, but the neural network would be more robust.\n",
    "We wanted to build a model that will be robust to new data.\n",
    "We could probably use different sampling techniques for fitting the models\n"
   ]
  },
  {
   "cell_type": "markdown",
   "metadata": {},
   "source": [
    "https://365datascience.com/pca-k-means/\n",
    "https://www.kaggle.com/oldwine357/removing-highly-correlated-features/comments\n",
    "https://docs.scipy.org/doc/scipy/reference/generated/scipy.cluster.hierarchy.linkage.html\n",
    "https://paperswithcode.com/method/gelu\n",
    "https://www.kaggle.com/wongguoxuan/eda-pca-xgboost-classifier-for-beginners\n",
    "http://www.xavierdupre.fr/app/mlinsights/helpsphinx/notebooks/logistic_regression_clustering.html\n",
    "https://www.cs.ucr.edu/~eamonn/meaningless.pdf\n",
    "https://www.fertstert.org/action/showPdf?pii=S0015-0282%2899%2900577-4\n",
    "https://www.sciencedirect.com/science/article/pii/S1877050919300080\n",
    "https://www.kaggle.com/vivekanandverma/eda-xgboost-hyperparameter-tuning\n",
    "https://medium.com/auquan/https-medium-com-auquan-machine-learning-techniques-trading-b7120cee4f05\n"
   ]
  },
  {
   "cell_type": "code",
   "execution_count": null,
   "metadata": {},
   "outputs": [],
   "source": []
  }
 ],
 "metadata": {
  "kernelspec": {
   "display_name": "Python 3",
   "language": "python",
   "name": "python3"
  },
  "language_info": {
   "codemirror_mode": {
    "name": "ipython",
    "version": 3
   },
   "file_extension": ".py",
   "mimetype": "text/x-python",
   "name": "python",
   "nbconvert_exporter": "python",
   "pygments_lexer": "ipython3",
   "version": "3.8.1"
  }
 },
 "nbformat": 4,
 "nbformat_minor": 4
}
