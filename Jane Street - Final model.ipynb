{
 "cells": [
  {
   "cell_type": "markdown",
   "metadata": {},
   "source": [
    "# Jane Street Market Competition\n",
    "\n",
    "Adrian & Joseph"
   ]
  },
  {
   "cell_type": "code",
   "execution_count": 1,
   "metadata": {
    "scrolled": true
   },
   "outputs": [
    {
     "name": "stderr",
     "output_type": "stream",
     "text": [
      "Using TensorFlow backend.\n"
     ]
    }
   ],
   "source": [
    "import seaborn as sns\n",
    "import matplotlib.pyplot as plt \n",
    "import numpy as np \n",
    "import pandas as pd\n",
    "\n",
    "from sklearn.preprocessing import StandardScaler\n",
    "from sklearn.decomposition import PCA\n",
    "\n",
    "from sklearn.model_selection import train_test_split\n",
    "\n",
    "from sklearn.metrics import accuracy_score \n",
    "from sklearn.metrics import confusion_matrix, classification_report\n",
    "\n",
    "\n",
    "from tensorflow.keras import Sequential\n",
    "from tensorflow.keras.layers import Conv2D, Flatten, Dense, Dropout\n",
    "\n",
    "\n",
    "import tensorflow as tf\n",
    "from tensorflow.keras import layers\n",
    "from keras.layers.core import Activation\n",
    "from tensorflow.keras import activations\n",
    "from keras.utils.generic_utils import get_custom_objects\n"
   ]
  },
  {
   "cell_type": "code",
   "execution_count": 2,
   "metadata": {},
   "outputs": [],
   "source": [
    "def remove_collinear_features(x, threshold):\n",
    "    '''\n",
    "    Objective:\n",
    "        Remove collinear features in a dataframe with a correlation coefficient\n",
    "        greater than the threshold. Removing collinear features can help a model \n",
    "        to generalize and improves the interpretability of the model.\n",
    "\n",
    "    Inputs: \n",
    "        x: features dataframe\n",
    "        threshold: features with correlations greater than this value are removed\n",
    "\n",
    "    Output: \n",
    "        dataframe that contains only the non-highly-collinear features\n",
    "    '''\n",
    "\n",
    "    # Calculate the correlation matrix\n",
    "    corr_matrix = x.corr()\n",
    "    iters = range(len(corr_matrix.columns) - 1)\n",
    "    drop_cols = []\n",
    "\n",
    "    # Iterate through the correlation matrix and compare correlations\n",
    "    for i in iters:\n",
    "        for j in range(i+1):\n",
    "            item = corr_matrix.iloc[j:(j+1), (i+1):(i+2)]\n",
    "            col = item.columns\n",
    "            row = item.index\n",
    "            val = abs(item.values)\n",
    "\n",
    "            # If correlation exceeds the threshold\n",
    "            if val >= threshold:\n",
    "                # Print the correlated features and the correlation value\n",
    "                #print(col.values[0], \"|\", row.values[0], \"|\", round(val[0][0], 2))\n",
    "                drop_cols.append(col.values[0])\n",
    "\n",
    "    # Drop one of each pair of correlated columns\n",
    "    drops = set(drop_cols)\n",
    "    x = x.drop(columns=drops)\n",
    "    print('Removed Columns {}'.format(drops))\n",
    "    return x\n",
    "\n",
    "def reduce_memory_usage(df):   \n",
    "    start_memory = df.memory_usage().sum() / 1024**2\n",
    "    print(f\"Memory usage of dataframe is {start_memory} MB\")\n",
    "    \n",
    "    for col in df.columns:\n",
    "        col_type = df[col].dtype\n",
    "        \n",
    "        if col_type != 'object':\n",
    "            c_min = df[col].min()\n",
    "            c_max = df[col].max()\n",
    "            \n",
    "            if str(col_type)[:3] == 'int':\n",
    "                if c_min > np.iinfo(np.int8).min and c_max < np.iinfo(np.int8).max:\n",
    "                    df[col] = df[col].astype(np.int8)\n",
    "                elif c_min > np.iinfo(np.int16).min and c_max < np.iinfo(np.int16).max:\n",
    "                    df[col] = df[col].astype(np.int16)\n",
    "                elif c_min > np.iinfo(np.int32).min and c_max < np.iinfo(np.int32).max:\n",
    "                    df[col] = df[col].astype(np.int32)\n",
    "                elif c_min > np.iinfo(np.int64).min and c_max < np.iinfo(np.int64).max:\n",
    "                    df[col] = df[col].astype(np.int64)\n",
    "                    \n",
    "            else:\n",
    "                if c_min > np.finfo(np.float16).min and c_max < np.finfo(np.float16).max:\n",
    "                    df[col] = df[col].astype(np.float16)\n",
    "                elif c_min > np.finfo(np.float32).min and c_max < np.finfo(np.float32).max:\n",
    "                    df[col] = df[col].astype(np.float32)\n",
    "                else:\n",
    "                    pass\n",
    "        else:\n",
    "            df[col] = df[col].astype('category')\n",
    "    \n",
    "    end_memory = df.memory_usage().sum() / 1024**2\n",
    "    print(f\"Memory usage of dataframe after reduction {end_memory} MB\")\n",
    "    print(f\"Reduced by {100 * (start_memory - end_memory) / start_memory} % \")\n",
    "    return df\n",
    "\n",
    "\n",
    "def gelu(x):\n",
    "    cdf = 0.5 * (1.0 + tf.math.erf(x / tf.sqrt(2.0)))\n",
    "    return x * cdf\n",
    "\n",
    "get_custom_objects().update({'gelu': Activation(gelu)})"
   ]
  },
  {
   "cell_type": "code",
   "execution_count": 3,
   "metadata": {},
   "outputs": [],
   "source": [
    "train = pd.read_csv('train.csv')"
   ]
  },
  {
   "cell_type": "code",
   "execution_count": 5,
   "metadata": {},
   "outputs": [
    {
     "name": "stdout",
     "output_type": "stream",
     "text": [
      "Reducing Memory\n",
      "Memory usage of dataframe is 2516.843978881836 MB\n",
      "Memory usage of dataframe after reduction 631.4908361434937 MB\n",
      "Reduced by 74.90941665664761 % \n"
     ]
    }
   ],
   "source": [
    "print(\"Reducing Memory\")\n",
    "train = reduce_memory_usage(train)"
   ]
  },
  {
   "cell_type": "code",
   "execution_count": 4,
   "metadata": {},
   "outputs": [],
   "source": [
    "# Dropping weight = 0, Null trades\n",
    "train = train[train['weight']!=0]\n",
    "# 1 = Trading Opp, 0 = Not a Trading opp\n",
    "train.loc[train['resp'] > 0, 'action'] = 1\n",
    "train.loc[train['resp'] <= 0, 'action'] = 0\n",
    "\n",
    "# Filling values with the median \n",
    "train = train.fillna(train.median())"
   ]
  },
  {
   "cell_type": "code",
   "execution_count": 5,
   "metadata": {},
   "outputs": [
    {
     "data": {
      "text/plain": [
       "action\n",
       "0.0    981900\n",
       "1.0    999387\n",
       "Name: action, dtype: int64"
      ]
     },
     "execution_count": 5,
     "metadata": {},
     "output_type": "execute_result"
    }
   ],
   "source": [
    "# Almost 50/50 \n",
    "train['action'].groupby(train['action']).agg('count')"
   ]
  },
  {
   "cell_type": "code",
   "execution_count": 6,
   "metadata": {},
   "outputs": [
    {
     "data": {
      "text/plain": [
       "[]"
      ]
     },
     "execution_count": 6,
     "metadata": {},
     "output_type": "execute_result"
    }
   ],
   "source": [
    "# no more missing values \n",
    "[col for col in train.columns if train[col].isnull().any()]"
   ]
  },
  {
   "cell_type": "code",
   "execution_count": 7,
   "metadata": {},
   "outputs": [
    {
     "name": "stdout",
     "output_type": "stream",
     "text": [
      "Removed Columns {'feature_32', 'feature_110', 'feature_122', 'feature_24', 'feature_25', 'feature_4', 'feature_48', 'feature_113', 'feature_28', 'feature_63', 'feature_36', 'feature_116', 'feature_66', 'feature_69', 'feature_127', 'feature_124', 'feature_38', 'feature_114', 'feature_58', 'feature_61', 'feature_107', 'feature_35', 'feature_126', 'feature_119', 'feature_18', 'feature_129', 'feature_6', 'feature_128', 'feature_101', 'feature_68', 'feature_76', 'feature_26', 'feature_40', 'feature_108'}\n"
     ]
    }
   ],
   "source": [
    "# Dropping features > .95 correlation \n",
    "corr_drop_train = remove_collinear_features(train.drop(['resp','resp_1','resp_2','resp_3','resp_4','ts_id','date','weight'], axis=1), .90)"
   ]
  },
  {
   "cell_type": "markdown",
   "metadata": {},
   "source": [
    "# Neural Network:\n",
    "\n",
    "We chose to use the same dimension methods in our neural network. Using PCA we used the components that explained 95 of variation in the data. We had to scale and transform the data in an array to pass through the network. Since some of these features take on somewhat of a normal distribution using gelu activation in some layers is something that we thought would be interesting to implement. \n",
    "\n",
    "\n",
    "\n"
   ]
  },
  {
   "cell_type": "code",
   "execution_count": 8,
   "metadata": {},
   "outputs": [
    {
     "data": {
      "text/html": [
       "<div>\n",
       "<style scoped>\n",
       "    .dataframe tbody tr th:only-of-type {\n",
       "        vertical-align: middle;\n",
       "    }\n",
       "\n",
       "    .dataframe tbody tr th {\n",
       "        vertical-align: top;\n",
       "    }\n",
       "\n",
       "    .dataframe thead th {\n",
       "        text-align: right;\n",
       "    }\n",
       "</style>\n",
       "<table border=\"1\" class=\"dataframe\">\n",
       "  <thead>\n",
       "    <tr style=\"text-align: right;\">\n",
       "      <th></th>\n",
       "      <th>feature_0</th>\n",
       "      <th>feature_1</th>\n",
       "      <th>feature_2</th>\n",
       "      <th>feature_3</th>\n",
       "      <th>feature_5</th>\n",
       "      <th>feature_7</th>\n",
       "      <th>feature_8</th>\n",
       "      <th>feature_9</th>\n",
       "      <th>feature_10</th>\n",
       "      <th>feature_11</th>\n",
       "      <th>...</th>\n",
       "      <th>feature_111</th>\n",
       "      <th>feature_112</th>\n",
       "      <th>feature_115</th>\n",
       "      <th>feature_117</th>\n",
       "      <th>feature_118</th>\n",
       "      <th>feature_120</th>\n",
       "      <th>feature_121</th>\n",
       "      <th>feature_123</th>\n",
       "      <th>feature_125</th>\n",
       "      <th>action</th>\n",
       "    </tr>\n",
       "  </thead>\n",
       "  <tbody>\n",
       "    <tr>\n",
       "      <th>1</th>\n",
       "      <td>-1</td>\n",
       "      <td>-1.349537</td>\n",
       "      <td>-1.704709</td>\n",
       "      <td>0.068058</td>\n",
       "      <td>0.193794</td>\n",
       "      <td>0.016608</td>\n",
       "      <td>0.007736</td>\n",
       "      <td>-0.151877</td>\n",
       "      <td>-0.384952</td>\n",
       "      <td>0.032831</td>\n",
       "      <td>...</td>\n",
       "      <td>-0.586619</td>\n",
       "      <td>-1.040491</td>\n",
       "      <td>0.983440</td>\n",
       "      <td>1.357907</td>\n",
       "      <td>1.612348</td>\n",
       "      <td>0.161024</td>\n",
       "      <td>-0.053419</td>\n",
       "      <td>1.777472</td>\n",
       "      <td>2.831612</td>\n",
       "      <td>0.0</td>\n",
       "    </tr>\n",
       "    <tr>\n",
       "      <th>4</th>\n",
       "      <td>1</td>\n",
       "      <td>-3.172026</td>\n",
       "      <td>-3.093182</td>\n",
       "      <td>-0.161518</td>\n",
       "      <td>-0.195006</td>\n",
       "      <td>0.016608</td>\n",
       "      <td>0.007736</td>\n",
       "      <td>2.683018</td>\n",
       "      <td>1.450991</td>\n",
       "      <td>0.032831</td>\n",
       "      <td>...</td>\n",
       "      <td>-0.373013</td>\n",
       "      <td>-1.213540</td>\n",
       "      <td>2.684119</td>\n",
       "      <td>2.861848</td>\n",
       "      <td>2.134804</td>\n",
       "      <td>0.161024</td>\n",
       "      <td>-0.053419</td>\n",
       "      <td>4.101145</td>\n",
       "      <td>6.623456</td>\n",
       "      <td>0.0</td>\n",
       "    </tr>\n",
       "    <tr>\n",
       "      <th>6</th>\n",
       "      <td>-1</td>\n",
       "      <td>-3.172026</td>\n",
       "      <td>-3.093182</td>\n",
       "      <td>-0.030588</td>\n",
       "      <td>0.097058</td>\n",
       "      <td>0.016608</td>\n",
       "      <td>0.007736</td>\n",
       "      <td>-6.299415</td>\n",
       "      <td>-4.202503</td>\n",
       "      <td>0.032831</td>\n",
       "      <td>...</td>\n",
       "      <td>-0.169793</td>\n",
       "      <td>-0.364885</td>\n",
       "      <td>5.158737</td>\n",
       "      <td>3.648643</td>\n",
       "      <td>4.029178</td>\n",
       "      <td>0.161024</td>\n",
       "      <td>-0.053419</td>\n",
       "      <td>4.076447</td>\n",
       "      <td>6.622176</td>\n",
       "      <td>1.0</td>\n",
       "    </tr>\n",
       "    <tr>\n",
       "      <th>7</th>\n",
       "      <td>-1</td>\n",
       "      <td>0.446050</td>\n",
       "      <td>-0.466210</td>\n",
       "      <td>0.498751</td>\n",
       "      <td>0.412528</td>\n",
       "      <td>0.016608</td>\n",
       "      <td>0.007736</td>\n",
       "      <td>0.277257</td>\n",
       "      <td>-0.458632</td>\n",
       "      <td>0.032831</td>\n",
       "      <td>...</td>\n",
       "      <td>-1.085762</td>\n",
       "      <td>-2.444205</td>\n",
       "      <td>-1.519479</td>\n",
       "      <td>-1.468300</td>\n",
       "      <td>-1.909212</td>\n",
       "      <td>0.161024</td>\n",
       "      <td>-0.053419</td>\n",
       "      <td>4.846202</td>\n",
       "      <td>5.261328</td>\n",
       "      <td>1.0</td>\n",
       "    </tr>\n",
       "    <tr>\n",
       "      <th>8</th>\n",
       "      <td>1</td>\n",
       "      <td>-3.172026</td>\n",
       "      <td>-3.093182</td>\n",
       "      <td>-0.363836</td>\n",
       "      <td>0.128422</td>\n",
       "      <td>0.016608</td>\n",
       "      <td>0.007736</td>\n",
       "      <td>-3.727364</td>\n",
       "      <td>-2.451716</td>\n",
       "      <td>0.032831</td>\n",
       "      <td>...</td>\n",
       "      <td>-1.110782</td>\n",
       "      <td>-2.927062</td>\n",
       "      <td>-2.176029</td>\n",
       "      <td>-1.786967</td>\n",
       "      <td>-2.537213</td>\n",
       "      <td>0.161024</td>\n",
       "      <td>-0.053419</td>\n",
       "      <td>4.785838</td>\n",
       "      <td>6.968002</td>\n",
       "      <td>0.0</td>\n",
       "    </tr>\n",
       "  </tbody>\n",
       "</table>\n",
       "<p>5 rows × 97 columns</p>\n",
       "</div>"
      ],
      "text/plain": [
       "   feature_0  feature_1  feature_2  feature_3  feature_5  feature_7  \\\n",
       "1         -1  -1.349537  -1.704709   0.068058   0.193794   0.016608   \n",
       "4          1  -3.172026  -3.093182  -0.161518  -0.195006   0.016608   \n",
       "6         -1  -3.172026  -3.093182  -0.030588   0.097058   0.016608   \n",
       "7         -1   0.446050  -0.466210   0.498751   0.412528   0.016608   \n",
       "8          1  -3.172026  -3.093182  -0.363836   0.128422   0.016608   \n",
       "\n",
       "   feature_8  feature_9  feature_10  feature_11  ...  feature_111  \\\n",
       "1   0.007736  -0.151877   -0.384952    0.032831  ...    -0.586619   \n",
       "4   0.007736   2.683018    1.450991    0.032831  ...    -0.373013   \n",
       "6   0.007736  -6.299415   -4.202503    0.032831  ...    -0.169793   \n",
       "7   0.007736   0.277257   -0.458632    0.032831  ...    -1.085762   \n",
       "8   0.007736  -3.727364   -2.451716    0.032831  ...    -1.110782   \n",
       "\n",
       "   feature_112  feature_115  feature_117  feature_118  feature_120  \\\n",
       "1    -1.040491     0.983440     1.357907     1.612348     0.161024   \n",
       "4    -1.213540     2.684119     2.861848     2.134804     0.161024   \n",
       "6    -0.364885     5.158737     3.648643     4.029178     0.161024   \n",
       "7    -2.444205    -1.519479    -1.468300    -1.909212     0.161024   \n",
       "8    -2.927062    -2.176029    -1.786967    -2.537213     0.161024   \n",
       "\n",
       "   feature_121  feature_123  feature_125  action  \n",
       "1    -0.053419     1.777472     2.831612     0.0  \n",
       "4    -0.053419     4.101145     6.623456     0.0  \n",
       "6    -0.053419     4.076447     6.622176     1.0  \n",
       "7    -0.053419     4.846202     5.261328     1.0  \n",
       "8    -0.053419     4.785838     6.968002     0.0  \n",
       "\n",
       "[5 rows x 97 columns]"
      ]
     },
     "execution_count": 8,
     "metadata": {},
     "output_type": "execute_result"
    }
   ],
   "source": [
    "corr_drop_train.head()"
   ]
  },
  {
   "cell_type": "code",
   "execution_count": 79,
   "metadata": {},
   "outputs": [],
   "source": [
    "\n",
    "y = corr_drop_train['action']\n",
    "\n",
    "\n",
    "train_ratio = 0.75\n",
    "test_ratio = 0.25\n",
    "\n",
    "x_train, x_test, y_train, y_test = train_test_split(corr_drop_train, y, test_size = 1 - train_ratio)"
   ]
  },
  {
   "cell_type": "code",
   "execution_count": 80,
   "metadata": {},
   "outputs": [],
   "source": [
    "nn_x_train = np.array(x_train)\n",
    "nn_x_test = np.array(x_test)\n",
    "\n",
    "nn_y_train = np.array(y_train)\n",
    "nn_y_test = np.array(y_test)\n",
    "\n",
    "scaler = StandardScaler()\n",
    "\n",
    "# Fitting the PCA to the training data \n",
    "# Not the testing data so when the model sees new data it is robust \n",
    "scaler.fit_transform(nn_x_train)\n",
    "scaler.fit_transform(nn_x_test)\n",
    "\n",
    "\n",
    "pca = PCA(.95)\n",
    "\n",
    "pca.fit(nn_x_train)\n",
    "pca.fit(nn_x_test)\n",
    "\n",
    "x_train_transform  = pca.transform(nn_x_train)\n",
    "x_test_transform = pca.transform(nn_x_test)"
   ]
  },
  {
   "cell_type": "code",
   "execution_count": 81,
   "metadata": {},
   "outputs": [
    {
     "data": {
      "text/plain": [
       "array([[ 1.        , -1.57870947, -1.52315137, ..., -1.61332227,\n",
       "        -2.99205436,  1.        ],\n",
       "       [-1.        ,  0.3412945 , -0.09309011, ..., -1.03070835,\n",
       "        -2.38974281,  1.        ],\n",
       "       [ 1.        , -0.81084465, -0.12282249, ...,  1.18340995,\n",
       "         3.6844065 ,  0.        ],\n",
       "       ...,\n",
       "       [ 1.        ,  3.33154588,  2.03527942, ...,  0.68666175,\n",
       "        -1.06930461,  1.        ],\n",
       "       [-1.        ,  3.51006837,  2.02592584, ..., -0.55860238,\n",
       "        -1.24400436,  1.        ],\n",
       "       [-1.        , -0.96369049, -1.63461269, ...,  1.7188066 ,\n",
       "         1.692418  ,  1.        ]])"
      ]
     },
     "execution_count": 81,
     "metadata": {},
     "output_type": "execute_result"
    }
   ],
   "source": [
    "nn_x_train"
   ]
  },
  {
   "cell_type": "code",
   "execution_count": 84,
   "metadata": {},
   "outputs": [
    {
     "data": {
      "text/plain": [
       "31"
      ]
     },
     "execution_count": 84,
     "metadata": {},
     "output_type": "execute_result"
    }
   ],
   "source": [
    "len(x_train_transform[1])"
   ]
  },
  {
   "cell_type": "code",
   "execution_count": 82,
   "metadata": {},
   "outputs": [
    {
     "data": {
      "text/plain": [
       "97"
      ]
     },
     "execution_count": 82,
     "metadata": {},
     "output_type": "execute_result"
    }
   ],
   "source": [
    "len(nn_x_test[1])"
   ]
  },
  {
   "cell_type": "code",
   "execution_count": 103,
   "metadata": {},
   "outputs": [],
   "source": [
    "model = Sequential()\n",
    "model.add(Dense(20, input_dim = len(x_train_transform[0,:]), activation = 'relu')) \n",
    "model.add(Dense(10, activation =  'gelu' ))\n",
    "model.add(Dense(10, activation =  'gelu' ))\n",
    "model.add(Dropout(0.2))\n",
    "model.add(Dense(8, activation =  'relu'))\n",
    "model.add(Dense(1, activation = 'sigmoid'))\n"
   ]
  },
  {
   "cell_type": "code",
   "execution_count": 104,
   "metadata": {},
   "outputs": [],
   "source": [
    "model.compile(loss = \"binary_crossentropy\", optimizer = 'adam', metrics = ['accuracy'])"
   ]
  },
  {
   "cell_type": "code",
   "execution_count": 105,
   "metadata": {},
   "outputs": [
    {
     "name": "stdout",
     "output_type": "stream",
     "text": [
      "Epoch 1/100\n",
      "37150/37150 [==============================] - 39s 1ms/step - loss: 0.6932 - accuracy: 0.5051 - val_loss: 0.6925 - val_accuracy: 0.5155\n",
      "Epoch 2/100\n",
      "37150/37150 [==============================] - 40s 1ms/step - loss: 0.6929 - accuracy: 0.5100 - val_loss: 0.6923 - val_accuracy: 0.5176\n",
      "Epoch 3/100\n",
      "37150/37150 [==============================] - 37s 992us/step - loss: 0.6927 - accuracy: 0.5120 - val_loss: 0.6923 - val_accuracy: 0.5173\n",
      "Epoch 4/100\n",
      "37150/37150 [==============================] - 38s 1ms/step - loss: 0.6926 - accuracy: 0.5122 - val_loss: 0.6926 - val_accuracy: 0.5132\n",
      "Epoch 5/100\n",
      "37150/37150 [==============================] - 38s 1ms/step - loss: 0.6927 - accuracy: 0.5115 - val_loss: 0.6927 - val_accuracy: 0.5121\n",
      "Epoch 6/100\n",
      "37150/37150 [==============================] - 38s 1ms/step - loss: 0.6928 - accuracy: 0.5111 - val_loss: 0.6928 - val_accuracy: 0.5102\n",
      "Epoch 7/100\n",
      "37150/37150 [==============================] - 37s 992us/step - loss: 0.6929 - accuracy: 0.5103 - val_loss: 0.6925 - val_accuracy: 0.5150\n",
      "Epoch 8/100\n",
      "37150/37150 [==============================] - 38s 1ms/step - loss: 0.6927 - accuracy: 0.5129 - val_loss: 0.6929 - val_accuracy: 0.5163\n",
      "Epoch 9/100\n",
      "37150/37150 [==============================] - 37s 1ms/step - loss: 0.6928 - accuracy: 0.5123 - val_loss: 0.6926 - val_accuracy: 0.5135\n",
      "Epoch 10/100\n",
      "37150/37150 [==============================] - 38s 1ms/step - loss: 0.6927 - accuracy: 0.5132 - val_loss: 0.6926 - val_accuracy: 0.5167\n",
      "Epoch 11/100\n",
      "37150/37150 [==============================] - 37s 1ms/step - loss: 0.6928 - accuracy: 0.5137 - val_loss: 0.6926 - val_accuracy: 0.5163\n",
      "Epoch 12/100\n",
      "37150/37150 [==============================] - 37s 1ms/step - loss: 0.6928 - accuracy: 0.5110 - val_loss: 0.6929 - val_accuracy: 0.5030\n",
      "Epoch 13/100\n",
      "37150/37150 [==============================] - 37s 1ms/step - loss: 0.6928 - accuracy: 0.5099 - val_loss: 0.6925 - val_accuracy: 0.5180\n",
      "Epoch 14/100\n",
      "37150/37150 [==============================] - 41s 1ms/step - loss: 0.6927 - accuracy: 0.5121 - val_loss: 0.6927 - val_accuracy: 0.5030\n",
      "Epoch 15/100\n",
      "37150/37150 [==============================] - 38s 1ms/step - loss: 0.6927 - accuracy: 0.5132 - val_loss: 0.6930 - val_accuracy: 0.5115\n",
      "Epoch 16/100\n",
      "37150/37150 [==============================] - 40s 1ms/step - loss: 0.6930 - accuracy: 0.5098 - val_loss: 0.6927 - val_accuracy: 0.5180\n",
      "Epoch 17/100\n",
      "37150/37150 [==============================] - 40s 1ms/step - loss: 0.6928 - accuracy: 0.5105 - val_loss: 0.6923 - val_accuracy: 0.5195\n",
      "Epoch 18/100\n",
      "37150/37150 [==============================] - 38s 1ms/step - loss: 0.6927 - accuracy: 0.5119 - val_loss: 0.6928 - val_accuracy: 0.5101\n",
      "Epoch 19/100\n",
      "37150/37150 [==============================] - 38s 1ms/step - loss: 0.6927 - accuracy: 0.5109 - val_loss: 0.6923 - val_accuracy: 0.5145\n",
      "Epoch 20/100\n",
      "37150/37150 [==============================] - 38s 1ms/step - loss: 0.6927 - accuracy: 0.5121 - val_loss: 0.6925 - val_accuracy: 0.5118\n",
      "Epoch 21/100\n",
      "37150/37150 [==============================] - 38s 1ms/step - loss: 0.6925 - accuracy: 0.5121 - val_loss: 0.6916 - val_accuracy: 0.5216\n",
      "Epoch 22/100\n",
      "37150/37150 [==============================] - 38s 1ms/step - loss: 0.6925 - accuracy: 0.5113 - val_loss: 0.6926 - val_accuracy: 0.5148\n",
      "Epoch 23/100\n",
      "37150/37150 [==============================] - 38s 1ms/step - loss: 0.6926 - accuracy: 0.5124 - val_loss: 0.6924 - val_accuracy: 0.5194\n",
      "Epoch 24/100\n",
      "37150/37150 [==============================] - 38s 1ms/step - loss: 0.6926 - accuracy: 0.5120 - val_loss: 0.6922 - val_accuracy: 0.5191\n",
      "Epoch 25/100\n",
      "37150/37150 [==============================] - 38s 1ms/step - loss: 0.6926 - accuracy: 0.5115 - val_loss: 0.6923 - val_accuracy: 0.5183\n",
      "Epoch 26/100\n",
      "37150/37150 [==============================] - 38s 1ms/step - loss: 0.6926 - accuracy: 0.5109 - val_loss: 0.6926 - val_accuracy: 0.5118\n",
      "Epoch 27/100\n",
      "37150/37150 [==============================] - 38s 1ms/step - loss: 0.6925 - accuracy: 0.5114 - val_loss: 0.6919 - val_accuracy: 0.5195\n",
      "Epoch 28/100\n",
      "37150/37150 [==============================] - 39s 1ms/step - loss: 0.6923 - accuracy: 0.5118 - val_loss: 0.6923 - val_accuracy: 0.5138\n",
      "Epoch 29/100\n",
      "37150/37150 [==============================] - 38s 1ms/step - loss: 0.6924 - accuracy: 0.5123 - val_loss: 0.6920 - val_accuracy: 0.5203\n",
      "Epoch 30/100\n",
      "37150/37150 [==============================] - 38s 1ms/step - loss: 0.6925 - accuracy: 0.5105 - val_loss: 0.6919 - val_accuracy: 0.5185\n",
      "Epoch 31/100\n",
      "37150/37150 [==============================] - 38s 1ms/step - loss: 0.6924 - accuracy: 0.5121 - val_loss: 0.6921 - val_accuracy: 0.5204\n",
      "Epoch 32/100\n",
      "37150/37150 [==============================] - 38s 1ms/step - loss: 0.6923 - accuracy: 0.5122 - val_loss: 0.6921 - val_accuracy: 0.5206\n",
      "Epoch 33/100\n",
      "37150/37150 [==============================] - 38s 1ms/step - loss: 0.6923 - accuracy: 0.5144 - val_loss: 0.6924 - val_accuracy: 0.5156\n",
      "Epoch 34/100\n",
      "37150/37150 [==============================] - 38s 1ms/step - loss: 0.6923 - accuracy: 0.5136 - val_loss: 0.6917 - val_accuracy: 0.5218\n",
      "Epoch 35/100\n",
      "37150/37150 [==============================] - 38s 1ms/step - loss: 0.6922 - accuracy: 0.5138 - val_loss: 0.6917 - val_accuracy: 0.5210\n",
      "Epoch 36/100\n",
      "37150/37150 [==============================] - 38s 1ms/step - loss: 0.6922 - accuracy: 0.5127 - val_loss: 0.6919 - val_accuracy: 0.5230\n",
      "Epoch 37/100\n",
      "37150/37150 [==============================] - 38s 1ms/step - loss: 0.6923 - accuracy: 0.5142 - val_loss: 0.6920 - val_accuracy: 0.5190\n",
      "Epoch 38/100\n",
      "37150/37150 [==============================] - 38s 1ms/step - loss: 0.6924 - accuracy: 0.5139 - val_loss: 0.6921 - val_accuracy: 0.5209\n",
      "Epoch 39/100\n",
      "37150/37150 [==============================] - 38s 1ms/step - loss: 0.6924 - accuracy: 0.5131 - val_loss: 0.6923 - val_accuracy: 0.5170\n",
      "Epoch 40/100\n",
      "37150/37150 [==============================] - 38s 1ms/step - loss: 0.6924 - accuracy: 0.5130 - val_loss: 0.6925 - val_accuracy: 0.5160\n",
      "Epoch 41/100\n",
      "37150/37150 [==============================] - 38s 1ms/step - loss: 0.6924 - accuracy: 0.5142 - val_loss: 0.6923 - val_accuracy: 0.5185\n",
      "Epoch 42/100\n",
      "37150/37150 [==============================] - 39s 1ms/step - loss: 0.6924 - accuracy: 0.5148 - val_loss: 0.6923 - val_accuracy: 0.5190\n",
      "Epoch 43/100\n",
      "37150/37150 [==============================] - 38s 1ms/step - loss: 0.6925 - accuracy: 0.5131 - val_loss: 0.6923 - val_accuracy: 0.5178\n",
      "Epoch 44/100\n",
      "37150/37150 [==============================] - 38s 1ms/step - loss: 0.6925 - accuracy: 0.5128 - val_loss: 0.6922 - val_accuracy: 0.5200\n",
      "Epoch 45/100\n",
      "37150/37150 [==============================] - 38s 1ms/step - loss: 0.6925 - accuracy: 0.5130 - val_loss: 0.6923 - val_accuracy: 0.5177\n",
      "Epoch 46/100\n",
      "37150/37150 [==============================] - 38s 1ms/step - loss: 0.6926 - accuracy: 0.5114 - val_loss: 0.6926 - val_accuracy: 0.5148\n",
      "Epoch 47/100\n",
      "37150/37150 [==============================] - 38s 1ms/step - loss: 0.6926 - accuracy: 0.5115 - val_loss: 0.6925 - val_accuracy: 0.5179\n",
      "Epoch 48/100\n",
      "37150/37150 [==============================] - 38s 1ms/step - loss: 0.6925 - accuracy: 0.5117 - val_loss: 0.6925 - val_accuracy: 0.5170\n",
      "Epoch 49/100\n",
      "37150/37150 [==============================] - 38s 1ms/step - loss: 0.6926 - accuracy: 0.5104 - val_loss: 0.6929 - val_accuracy: 0.5080\n",
      "Epoch 50/100\n",
      "37150/37150 [==============================] - 38s 1ms/step - loss: 0.6928 - accuracy: 0.5072 - val_loss: 0.6925 - val_accuracy: 0.4970\n",
      "Epoch 51/100\n",
      "37150/37150 [==============================] - 38s 1ms/step - loss: 0.6927 - accuracy: 0.5073 - val_loss: 0.6925 - val_accuracy: 0.5118\n",
      "Epoch 52/100\n",
      "37150/37150 [==============================] - 38s 1ms/step - loss: 0.6927 - accuracy: 0.5086 - val_loss: 0.6926 - val_accuracy: 0.5107\n",
      "Epoch 53/100\n",
      "37150/37150 [==============================] - 38s 1ms/step - loss: 0.6925 - accuracy: 0.5092 - val_loss: 0.6921 - val_accuracy: 0.5153\n",
      "Epoch 54/100\n",
      "37150/37150 [==============================] - 38s 1ms/step - loss: 0.6925 - accuracy: 0.5099 - val_loss: 0.6919 - val_accuracy: 0.5172\n",
      "Epoch 55/100\n",
      "37150/37150 [==============================] - 38s 1ms/step - loss: 0.6924 - accuracy: 0.5120 - val_loss: 0.6920 - val_accuracy: 0.5173\n",
      "Epoch 56/100\n",
      "37150/37150 [==============================] - 38s 1ms/step - loss: 0.6925 - accuracy: 0.5114 - val_loss: 0.6924 - val_accuracy: 0.5180\n",
      "Epoch 57/100\n",
      "37150/37150 [==============================] - 38s 1ms/step - loss: 0.6924 - accuracy: 0.5115 - val_loss: 0.6921 - val_accuracy: 0.5187\n",
      "Epoch 58/100\n",
      "37150/37150 [==============================] - 38s 1ms/step - loss: 0.6924 - accuracy: 0.5121 - val_loss: 0.6920 - val_accuracy: 0.5203\n",
      "Epoch 59/100\n",
      "37150/37150 [==============================] - 38s 1ms/step - loss: 0.6924 - accuracy: 0.5127 - val_loss: 0.6917 - val_accuracy: 0.5190\n",
      "Epoch 60/100\n",
      "37150/37150 [==============================] - 38s 1ms/step - loss: 0.6921 - accuracy: 0.5137 - val_loss: 0.6923 - val_accuracy: 0.5158\n",
      "Epoch 61/100\n",
      "37150/37150 [==============================] - 38s 1ms/step - loss: 0.6922 - accuracy: 0.5130 - val_loss: 0.6916 - val_accuracy: 0.5231\n",
      "Epoch 62/100\n",
      "37150/37150 [==============================] - 38s 1ms/step - loss: 0.6921 - accuracy: 0.5138 - val_loss: 0.6921 - val_accuracy: 0.5173\n",
      "Epoch 63/100\n",
      "37150/37150 [==============================] - 38s 1ms/step - loss: 0.6921 - accuracy: 0.5141 - val_loss: 0.6917 - val_accuracy: 0.5209\n",
      "Epoch 64/100\n",
      "37150/37150 [==============================] - 38s 1ms/step - loss: 0.6922 - accuracy: 0.5119 - val_loss: 0.6919 - val_accuracy: 0.5204\n",
      "Epoch 65/100\n",
      "37150/37150 [==============================] - 38s 1ms/step - loss: 0.6922 - accuracy: 0.5126 - val_loss: 0.6920 - val_accuracy: 0.5220\n",
      "Epoch 66/100\n",
      "37150/37150 [==============================] - 38s 1ms/step - loss: 0.6922 - accuracy: 0.5128 - val_loss: 0.6915 - val_accuracy: 0.5231\n",
      "Epoch 67/100\n",
      "37150/37150 [==============================] - 38s 1ms/step - loss: 0.6921 - accuracy: 0.5128 - val_loss: 0.6919 - val_accuracy: 0.5223\n",
      "Epoch 68/100\n",
      "37150/37150 [==============================] - 38s 1ms/step - loss: 0.6920 - accuracy: 0.5134 - val_loss: 0.6921 - val_accuracy: 0.5224\n",
      "Epoch 69/100\n",
      "37150/37150 [==============================] - 38s 1ms/step - loss: 0.6920 - accuracy: 0.5136 - val_loss: 0.6921 - val_accuracy: 0.5178\n",
      "Epoch 70/100\n",
      "37150/37150 [==============================] - 38s 1ms/step - loss: 0.6919 - accuracy: 0.5135 - val_loss: 0.6916 - val_accuracy: 0.5202\n",
      "Epoch 71/100\n",
      "37150/37150 [==============================] - 38s 1ms/step - loss: 0.6921 - accuracy: 0.5133 - val_loss: 0.6913 - val_accuracy: 0.5235\n",
      "Epoch 72/100\n",
      "37150/37150 [==============================] - 38s 1ms/step - loss: 0.6920 - accuracy: 0.5139 - val_loss: 0.6913 - val_accuracy: 0.5228\n",
      "Epoch 73/100\n",
      "37150/37150 [==============================] - 38s 1ms/step - loss: 0.6920 - accuracy: 0.5132 - val_loss: 0.6921 - val_accuracy: 0.5120\n",
      "Epoch 74/100\n",
      "37150/37150 [==============================] - 38s 1ms/step - loss: 0.6920 - accuracy: 0.5144 - val_loss: 0.6917 - val_accuracy: 0.5229\n",
      "Epoch 75/100\n",
      "37150/37150 [==============================] - 38s 1ms/step - loss: 0.6921 - accuracy: 0.5129 - val_loss: 0.6914 - val_accuracy: 0.5241\n",
      "Epoch 76/100\n",
      "37150/37150 [==============================] - 38s 1ms/step - loss: 0.6921 - accuracy: 0.5128 - val_loss: 0.6913 - val_accuracy: 0.5206\n",
      "Epoch 77/100\n",
      "37150/37150 [==============================] - 38s 1ms/step - loss: 0.6920 - accuracy: 0.5132 - val_loss: 0.6918 - val_accuracy: 0.5206\n",
      "Epoch 78/100\n",
      "37150/37150 [==============================] - 38s 1ms/step - loss: 0.6920 - accuracy: 0.5144 - val_loss: 0.6917 - val_accuracy: 0.5221\n",
      "Epoch 79/100\n",
      "37150/37150 [==============================] - 38s 1ms/step - loss: 0.6921 - accuracy: 0.5135 - val_loss: 0.6916 - val_accuracy: 0.5219\n",
      "Epoch 80/100\n",
      "37150/37150 [==============================] - 38s 1ms/step - loss: 0.6922 - accuracy: 0.5135 - val_loss: 0.6919 - val_accuracy: 0.5226\n",
      "Epoch 81/100\n",
      "37150/37150 [==============================] - 38s 1ms/step - loss: 0.6920 - accuracy: 0.5148 - val_loss: 0.6921 - val_accuracy: 0.5200\n",
      "Epoch 82/100\n",
      "37150/37150 [==============================] - 38s 1ms/step - loss: 0.6921 - accuracy: 0.5136 - val_loss: 0.6920 - val_accuracy: 0.5183\n",
      "Epoch 83/100\n",
      "37150/37150 [==============================] - 38s 1ms/step - loss: 0.6920 - accuracy: 0.5142 - val_loss: 0.6920 - val_accuracy: 0.5234\n",
      "Epoch 84/100\n",
      "37150/37150 [==============================] - 38s 1ms/step - loss: 0.6920 - accuracy: 0.5137 - val_loss: 0.6915 - val_accuracy: 0.5231\n",
      "Epoch 85/100\n",
      "37150/37150 [==============================] - 39s 1ms/step - loss: 0.6920 - accuracy: 0.5124 - val_loss: 0.6917 - val_accuracy: 0.5222\n",
      "Epoch 86/100\n",
      "37150/37150 [==============================] - 38s 1ms/step - loss: 0.6920 - accuracy: 0.5136 - val_loss: 0.6919 - val_accuracy: 0.5205\n",
      "Epoch 87/100\n",
      "37150/37150 [==============================] - 38s 1ms/step - loss: 0.6919 - accuracy: 0.5134 - val_loss: 0.6918 - val_accuracy: 0.5241\n",
      "Epoch 88/100\n",
      "37150/37150 [==============================] - 37s 1ms/step - loss: 0.6920 - accuracy: 0.5132 - val_loss: 0.6922 - val_accuracy: 0.5149\n",
      "Epoch 89/100\n",
      "37150/37150 [==============================] - 38s 1ms/step - loss: 0.6922 - accuracy: 0.5117 - val_loss: 0.6919 - val_accuracy: 0.5213\n",
      "Epoch 90/100\n",
      "37150/37150 [==============================] - 38s 1ms/step - loss: 0.6922 - accuracy: 0.5123 - val_loss: 0.6912 - val_accuracy: 0.5223\n",
      "Epoch 91/100\n",
      "37150/37150 [==============================] - 38s 1ms/step - loss: 0.6920 - accuracy: 0.5135 - val_loss: 0.6921 - val_accuracy: 0.5153\n",
      "Epoch 92/100\n",
      "37150/37150 [==============================] - 38s 1ms/step - loss: 0.6919 - accuracy: 0.5140 - val_loss: 0.6911 - val_accuracy: 0.5236\n",
      "Epoch 93/100\n",
      "37150/37150 [==============================] - 38s 1ms/step - loss: 0.6919 - accuracy: 0.5135 - val_loss: 0.6913 - val_accuracy: 0.5171\n",
      "Epoch 94/100\n",
      "37150/37150 [==============================] - 38s 1ms/step - loss: 0.6919 - accuracy: 0.5137 - val_loss: 0.6915 - val_accuracy: 0.5192\n",
      "Epoch 95/100\n",
      "37150/37150 [==============================] - 38s 1ms/step - loss: 0.6918 - accuracy: 0.5149 - val_loss: 0.6910 - val_accuracy: 0.5221\n",
      "Epoch 96/100\n",
      "37150/37150 [==============================] - 38s 1ms/step - loss: 0.6918 - accuracy: 0.5135 - val_loss: 0.6910 - val_accuracy: 0.5229\n",
      "Epoch 97/100\n",
      "37150/37150 [==============================] - 38s 1ms/step - loss: 0.6916 - accuracy: 0.5155 - val_loss: 0.6909 - val_accuracy: 0.5246\n",
      "Epoch 98/100\n",
      "37150/37150 [==============================] - 38s 1ms/step - loss: 0.6917 - accuracy: 0.5142 - val_loss: 0.6920 - val_accuracy: 0.5137\n",
      "Epoch 99/100\n",
      "37150/37150 [==============================] - 39s 1ms/step - loss: 0.6918 - accuracy: 0.5131 - val_loss: 0.6915 - val_accuracy: 0.5232\n",
      "Epoch 100/100\n",
      "37150/37150 [==============================] - 39s 1ms/step - loss: 0.6919 - accuracy: 0.5126 - val_loss: 0.6915 - val_accuracy: 0.5218\n"
     ]
    }
   ],
   "source": [
    "history = model.fit(x = x_train_transform, y = nn_y_train, validation_split=0.2, epochs = 100, verbose = 1)"
   ]
  },
  {
   "cell_type": "code",
   "execution_count": 106,
   "metadata": {},
   "outputs": [
    {
     "data": {
      "image/png": "[encoded data removed]",
      "text/plain": [
       "<Figure size 432x288 with 1 Axes>"
      ]
     },
     "metadata": {
      "needs_background": "light"
     },
     "output_type": "display_data"
    }
   ],
   "source": [
    "# Training loss \n",
    "\n",
    "plt.plot(history.history['loss'], label = 'loss')\n",
    "plt.plot(history.history['val_loss'], label = 'val_loss')\n",
    "plt.legend();"
   ]
  },
  {
   "cell_type": "code",
   "execution_count": 96,
   "metadata": {},
   "outputs": [],
   "source": [
    "nn_pred = model.predict(x_test_transform)"
   ]
  },
  {
   "cell_type": "code",
   "execution_count": 97,
   "metadata": {},
   "outputs": [
    {
     "name": "stdout",
     "output_type": "stream",
     "text": [
      "[[ 90564 154785]\n",
      " [ 79563 170410]]\n"
     ]
    }
   ],
   "source": [
    "print(confusion_matrix(nn_y_test, nn_pred.round()))"
   ]
  },
  {
   "cell_type": "code",
   "execution_count": 101,
   "metadata": {},
   "outputs": [
    {
     "name": "stdout",
     "output_type": "stream",
     "text": [
      "              precision    recall  f1-score   support\n",
      "\n",
      "         0.0       0.53      0.37      0.44    245349\n",
      "         1.0       0.52      0.68      0.59    249973\n",
      "\n",
      "    accuracy                           0.53    495322\n",
      "   macro avg       0.53      0.53      0.51    495322\n",
      "weighted avg       0.53      0.53      0.51    495322\n",
      "\n"
     ]
    }
   ],
   "source": [
    "print(classification_report(nn_y_test, nn_pred.round()))"
   ]
  },
  {
   "cell_type": "code",
   "execution_count": 102,
   "metadata": {},
   "outputs": [
    {
     "data": {
      "text/plain": [
       "0.5268774655678529"
      ]
     },
     "execution_count": 102,
     "metadata": {},
     "output_type": "execute_result"
    }
   ],
   "source": [
    "accuracy_score(nn_y_test, nn_pred.round())"
   ]
  },
  {
   "cell_type": "markdown",
   "metadata": {},
   "source": [
    "# Discussion:\n",
    "\n",
    "You could see that all models have high accuracy, but the neural network would be more robust.\n",
    "We wanted to build a model that will be robust to new data.\n",
    "We could probably use different sampling techniques for fitting the models\n"
   ]
  },
  {
   "cell_type": "markdown",
   "metadata": {},
   "source": [
    "# References \n",
    "\n",
    "https://365datascience.com/pca-k-means/\n",
    "https://www.kaggle.com/oldwine357/removing-highly-correlated-features/comments\n",
    "https://docs.scipy.org/doc/scipy/reference/generated/scipy.cluster.hierarchy.linkage.html\n",
    "https://paperswithcode.com/method/gelu\n",
    "https://www.kaggle.com/wongguoxuan/eda-pca-xgboost-classifier-for-beginners\n",
    "http://www.xavierdupre.fr/app/mlinsights/helpsphinx/notebooks/logistic_regression_clustering.html\n",
    "https://www.cs.ucr.edu/~eamonn/meaningless.pdf\n",
    "https://www.fertstert.org/action/showPdf?pii=S0015-0282%2899%2900577-4\n",
    "https://www.sciencedirect.com/science/article/pii/S1877050919300080\n",
    "https://www.kaggle.com/vivekanandverma/eda-xgboost-hyperparameter-tuning\n",
    "https://medium.com/auquan/https-medium-com-auquan-machine-learning-techniques-trading-b7120cee4f05\n"
   ]
  },
  {
   "cell_type": "code",
   "execution_count": null,
   "metadata": {},
   "outputs": [],
   "source": []
  }
 ],
 "metadata": {
  "kernelspec": {
   "display_name": "Python 3",
   "language": "python",
   "name": "python3"
  },
  "language_info": {
   "codemirror_mode": {
    "name": "ipython",
    "version": 3
   },
   "file_extension": ".py",
   "mimetype": "text/x-python",
   "name": "python",
   "nbconvert_exporter": "python",
   "pygments_lexer": "ipython3",
   "version": "3.8.1"
  }
 },
 "nbformat": 4,
 "nbformat_minor": 4
}
